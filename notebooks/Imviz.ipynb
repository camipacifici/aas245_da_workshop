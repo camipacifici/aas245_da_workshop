{
 "cells": [
  {
   "cell_type": "markdown",
   "id": "80876f9c-2019-4959-a0c1-0b42fce8c8bb",
   "metadata": {},
   "source": [
    "![title](https://github.com/STScI-MIRI/MRS-ExampleNB/raw/main/assets/banner1.png)"
   ]
  },
  {
   "cell_type": "markdown",
   "id": "faaaaafd-c448-4d82-8a2b-d8ac82c33205",
   "metadata": {},
   "source": [
    "### Jdaviz Imviz Demo\n",
    "#### AAS 245 National Harbor, Jan 2025\n",
    "Author : Clare Shanahan, Space Telescope Science Institute\n",
    "\n",
    "#### Tutorial Overview\n",
    "This tutorial will demonstrate an example workflow to show of some key features of Imviz. The example scenario here is that we are\n",
    "looking at two exposures to visually inspect how well they are aligned.\n",
    "\n",
    "1. Starting Imviz and loading data.\n",
    "2. Setting display options for loaded data.\n",
    "3. Aligning images by pixel / wcs. Blinking between loaded images. \n",
    "4. Loading GAIA catalog and plotting sources on images. Zooming and panning on image.\n",
    "5. \n",
    "\n",
    "The notebook demo will demonstrate how to do these tasks in the application UI, but this notebook has API calls to do the same steps programatically. (That is the magic of jdaviz!)\n"
   ]
  },
  {
   "cell_type": "markdown",
   "id": "2f28b23f-4a49-4fe1-8ba9-dc417b26978c",
   "metadata": {},
   "source": [
    "First, import, create, and show an Imviz instance in the notebook. It will be empty until we load data, but the application \n",
    "displayed in the following cell will be our workspace, where all changes made by clicking or programatically via the API will be reflected. (You will be scrolling up to this cell frequently if you are following along in the notebook.)"
   ]
  },
  {
   "cell_type": "code",
   "execution_count": 1,
   "id": "191f6ab3-634a-4161-b9a6-95970bdfb792",
   "metadata": {},
   "outputs": [
    {
     "data": {
      "application/vnd.jupyter.widget-view+json": {
       "model_id": "104bf94a604f4c4d962a4f397cb69742",
       "version_major": 2,
       "version_minor": 0
      },
      "text/plain": [
       "Application(config='imviz', docs_link='https://jdaviz.readthedocs.io/en/latest/imviz/index.html', events=['cal…"
      ]
     },
     "metadata": {},
     "output_type": "display_data"
    }
   ],
   "source": [
    "from jdaviz import Imviz\n",
    "imviz = Imviz()\n",
    "imviz.show()"
   ]
  },
  {
   "cell_type": "markdown",
   "id": "8a83e218-0c3e-4a45-b998-7b18abeeb555",
   "metadata": {},
   "source": [
    "### Loading Data\n",
    "In addition to loading local data or array data (e.g., a Spectrum1D for specviz/specviz2d, or numpy array/CCDData etc in imviz) in a notebook, jdaviz can download and load data directly from the MAST archive.\n",
    "\n",
    "(MAST queries are done at the association level, so it is a few extra steps to get an individual exposure. The datasets we will load are the first 2 returned by this query, for those curious how we obtained the URIs in the 'load_data' cell)"
   ]
  },
  {
   "cell_type": "code",
   "execution_count": 5,
   "id": "5c75536e-e679-4dbe-94eb-b340423711fc",
   "metadata": {},
   "outputs": [],
   "source": [
    "##  comment out to see how we found the observation URIs to load\n",
    "# from astroquery.mast import Observations\n",
    "# obs = Observations.query_criteria(obs_id='jw01783-o003_t009_nircam_clear-f335m')\n",
    "# product_list = Observations.get_product_list(obs)\n",
    "## table where 'dataURI' column is what we want\n",
    "# filtered_products = Observations.filter_products(product_list, productSubGroupDescription = 'CAL')"
   ]
  },
  {
   "cell_type": "markdown",
   "id": "0e8cfe7e-33fa-4965-8a20-abdfecfe03d8",
   "metadata": {},
   "source": [
    "We will now download and load 2 nircam F335M images of M51, dithered exposures from the same observation.\n",
    "\n",
    "Once 'load_data' is run, we will see these images appear in the Imviz cell above. With 'cache=True', a local copy of the data is saved so it will not need to be downloaded next time.\n",
    "\n",
    "(Note: There is distinction to be noted here - these two images were loaded into the same viewer (imviz-0). It is also possible to create a second viewer and display the images side by side, but for the purposes of this demo we prefer them in the same viewer.)"
   ]
  },
  {
   "cell_type": "code",
   "execution_count": 3,
   "id": "a11eed41-978f-4f6c-a5c5-9064b0f5fe14",
   "metadata": {},
   "outputs": [
    {
     "name": "stderr",
     "output_type": "stream",
     "text": [
      "INFO:astroquery:Found cached file /Users/cshanahan/packages/testing_notebooks/jdaviz/jw01783003004_02101_00003_nrcalong_cal.fits with expected size 117544320.\n"
     ]
    },
    {
     "name": "stdout",
     "output_type": "stream",
     "text": [
      "INFO: Found cached file /Users/cshanahan/packages/testing_notebooks/jdaviz/jw01783003004_02101_00003_nrcalong_cal.fits with expected size 117544320. [astroquery.query]\n"
     ]
    },
    {
     "name": "stderr",
     "output_type": "stream",
     "text": [
      "INFO:astroquery:Found cached file /Users/cshanahan/packages/testing_notebooks/jdaviz/jw01783003004_02101_00001_nrcalong_cal.fits with expected size 117544320.\n"
     ]
    },
    {
     "name": "stdout",
     "output_type": "stream",
     "text": [
      "INFO: Found cached file /Users/cshanahan/packages/testing_notebooks/jdaviz/jw01783003004_02101_00001_nrcalong_cal.fits with expected size 117544320. [astroquery.query]\n"
     ]
    }
   ],
   "source": [
    "# load first exposure into image viewer\n",
    "imviz.load_data('mast:JWST/product/jw01783003004_02101_00003_nrcalong_cal.fits', cache=True)\n",
    "\n",
    "# load second exposure into image viewer\n",
    "imviz.load_data('mast:JWST/product/jw01783003004_02101_00001_nrcalong_cal.fits', cache=True)"
   ]
  },
  {
   "cell_type": "markdown",
   "id": "ab62ab28-b2cf-4377-9682-173e075c97ea",
   "metadata": {},
   "source": [
    "Once these files are loaded (which will take longer the first time since they need to be downloaded), they will appear in Imviz. Each dataset, loaded (using default names A and B in this case) will appear in the data menu on the left hand side. You can select/deselect loaded data to display. To blink between images, press the 'b' key.\n",
    "\n",
    "### Modifying Image Display Options\n",
    "Now, we will modify some of the display options to better suit our data. For the live demo, we will do this in the UI in the 'Plot Options' plugin by modifying the image stretch from linear to logarithmic, and setting vmax to a more appropriate value. The following cell, when uncommented, accomplishes the same task from the API.\n",
    "\n",
    "(Take a look around the Plot Options plugin, there is a lot more you can do to customize display settings including colormap, setting layer colors and opacities to create composite RGB images, and displaying contours.)"
   ]
  },
  {
   "cell_type": "code",
   "execution_count": 7,
   "id": "df68c6dd-5ddd-4ca9-acf6-97df2a132096",
   "metadata": {},
   "outputs": [],
   "source": [
    "# the following code is the API equivalent to the series of UI clicks we will do in the live demo\n",
    "\n",
    "# get the 'Plot Options' plugin\n",
    "plot_options = imviz.plugins['Plot Options']\n",
    "\n",
    "# enable mutiselect so our chosen options are applied to both images\n",
    "plot_options.layer_multiselect = True\n",
    "\n",
    "# switch stretch function from default linear to log\n",
    "plot_options.stretch_function = 'log'\n",
    "\n",
    "# use the 99.5% stretch function preset\n",
    "plot_options.stretch_preset = '99.5%'\n",
    "\n",
    "# increase vmax so we can see structures in the data more clearly\n",
    "plot_options.stretch_vmax = plot_options.stretch_vmax.value * 100."
   ]
  },
  {
   "cell_type": "markdown",
   "id": "dc34c0cd-e484-475a-905a-a4633646ce9c",
   "metadata": {},
   "source": [
    "#### Linking by WCS\n",
    "\n",
    "By default, images are pixel linked when loaded. We can link them by w"
   ]
  },
  {
   "cell_type": "code",
   "execution_count": null,
   "id": "88d0b938-6fc6-4c14-affc-e41b73d16a19",
   "metadata": {},
   "outputs": [],
   "source": []
  },
  {
   "cell_type": "code",
   "execution_count": null,
   "id": "97dfaae5-b4e9-433e-a942-388234f94d07",
   "metadata": {},
   "outputs": [],
   "source": []
  }
 ],
 "metadata": {
  "kernelspec": {
   "display_name": "Python 3 (ipykernel)",
   "language": "python",
   "name": "python3"
  },
  "language_info": {
   "codemirror_mode": {
    "name": "ipython",
    "version": 3
   },
   "file_extension": ".py",
   "mimetype": "text/x-python",
   "name": "python",
   "nbconvert_exporter": "python",
   "pygments_lexer": "ipython3",
   "version": "3.12.8"
  }
 },
 "nbformat": 4,
 "nbformat_minor": 5
}
