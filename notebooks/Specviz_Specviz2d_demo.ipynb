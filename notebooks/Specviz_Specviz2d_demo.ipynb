{
 "cells": [
  {
   "cell_type": "markdown",
   "id": "b3107cd8-8ea8-4289-b3bb-6046ea69f77f",
   "metadata": {},
   "source": [
    "<img style=\"float: center;\" src='https://github.com/STScI-MIRI/MRS-ExampleNB/raw/main/assets/banner1.png' alt=\"stsci_logo\" width=\"1000px\"/> \n",
    "\n",
    "# Welcome to the Specviz and Specviz2D Workshop\n",
    "-----\n",
    "\n",
    "**Author**: Hatice Karatay | Data Analysis Tools Branch, Space Telescope Science Institute"
   ]
  },
  {
   "cell_type": "markdown",
   "id": "b72dcde3-9105-4923-8a7d-07fa27d9c215",
   "metadata": {},
   "source": [
    "This workshop will introduce you to **Specviz** and **Specviz2D**, two tools in JDAViz designed for exploring and analyzing 1D and 2D spectra. I will walk through their features, learn how to interact with spectral data, and explore tools and plugins to enhance your analysis workflow.\n",
    "\n",
    "Let's dive in!\n",
    "\n",
    "## Workshop Agenda\n",
    "1. **Introduction to Specviz**\n",
    "   - Loading and visualizing 1D spectral data.\n",
    "   - Exploring tools and plugins, such as Plot Options and Subset Tools.\n",
    "   - Selecting subsets and analyzing specific regions of spectra.\n",
    "   - Exporting data and visualizations.\n",
    "2. **Introduction to Specviz2D**\n",
    "   - Loading and exploring 2D spectral data.\n",
    "   - Navigating tools for zooming, panning, and color adjustments.\n",
    "   - Extracting 1D spectra from 2D data for detailed analysis.\n",
    "\n",
    "## Learning Goals\n",
    "By the end of this workshop, you will be able to:\n",
    "1. Load and visualize 1D and 2D spectral data in Specviz and Specviz2D.\n",
    "2. Customize the appearance of plots using Plot Options.\n",
    "3. Use the Subset Tools plugin to select and analyze regions of interest.\n",
    "4. Zoom, pan, and navigate the spectrum efficiently.\n",
    "5. Export data and visualizations using the Export Plugin."
   ]
  },
  {
   "cell_type": "markdown",
   "id": "1f29a12a-6611-4d3f-a181-92feb46ef99b",
   "metadata": {},
   "source": [
    "### Additional Information\n",
    "\n",
    "To learn more about Specviz, its features, and how it fits into the broader JDAViz suite, visit the official documentation:  \n",
    "[Specviz Documentation](https://jdaviz.readthedocs.io/en/latest/specviz/)  \n",
    "[Specviz2D Documentation](https://jdaviz.readthedocs.io/en/latest/specviz2d/index.html)\n",
    "\n",
    "These resources provides detailed guides, examples, and technical information to help you make the most of Specviz and Specviz2d."
   ]
  },
  {
   "cell_type": "markdown",
   "id": "3eaf9465-2d09-431f-b4da-b268424a6587",
   "metadata": {},
   "source": [
    "## Specviz: "
   ]
  },
  {
   "cell_type": "code",
   "execution_count": null,
   "id": "c8ce267b-4012-4352-8af7-8c0ea4b7508c",
   "metadata": {},
   "outputs": [],
   "source": [
    "# Import Specviz\n",
    "from jdaviz import Specviz\n",
    "\n",
    "# Initialize Specviz\n",
    "specviz = Specviz()\n",
    "specviz.show('sidecar:right')"
   ]
  },
  {
   "cell_type": "markdown",
   "id": "cd954998-cde4-4747-9167-7ecc4580828b",
   "metadata": {},
   "source": [
    "### Load Data\n",
    "Let's load a JWST data with prism.\n",
    "\n",
    "*If the data have not been downloaded yet, turn the following cell to code and run it*"
   ]
  },
  {
   "cell_type": "raw",
   "id": "45a54b73-4af5-4fb6-8f07-9cd703931174",
   "metadata": {},
   "source": [
    "from astroquery.mast import Observations\n",
    "\n",
    "list_uri = ['mast:HLSP/jades/dr3/goods-n/spectra/clear-prism/goods-n-mediumhst/hlsp_jades_jwst_nirspec_goods-n-mediumhst-00000604_clear-prism_v1.0_x1d.fits',\n",
    "            'mast:HLSP/jades/dr3/goods-n/spectra/clear-prism/goods-n-mediumhst/hlsp_jades_jwst_nirspec_goods-n-mediumhst-00000755_clear-prism_v1.0_x1d.fits',\n",
    "            'mast:HLSP/jades/dr3/goods-n/spectra/clear-prism/goods-n-mediumhst/hlsp_jades_jwst_nirspec_goods-n-mediumhst-00000755_clear-prism_v1.0_s2d.fits',\n",
    "            'mast:HLSP/jades/dr3/goods-n/spectra/clear-prism/goods-n-mediumhst/hlsp_jades_jwst_nirspec_goods-n-mediumhst-00000604_clear-prism_v1.0_s2d.fits',\n",
    "           ]\n",
    "\n",
    "for file in list_uri:\n",
    "    result = Observations.download_file(file, cache=True)\n",
    "    print(result)\n",
    "\n",
    "print('All files downloaded!')"
   ]
  },
  {
   "cell_type": "code",
   "execution_count": null,
   "id": "3b353abf-59d8-4a03-9bcc-17c8f5f4a0b3",
   "metadata": {},
   "outputs": [],
   "source": [
    "specviz.load_data(\"../hlsp_jades_jwst_nirspec_goods-n-mediumhst-00000604_clear-prism_v1.0_x1d.fits\")\n",
    "#specviz.load_data(\"../hlsp_jades_jwst_nirspec_goods-n-mediumhst-00000755_clear-prism_v1.0_x1d.fits\")"
   ]
  },
  {
   "cell_type": "markdown",
   "id": "80ac07d1-3f69-4e65-bab5-9cfe3580380b",
   "metadata": {},
   "source": [
    "### Plot Data\n",
    "This snippet demonstrates how to programmatically customize the appearance of spectral plots using the Plot Options plugin:"
   ]
  },
  {
   "cell_type": "code",
   "execution_count": null,
   "id": "1a9b8104-b1b9-4cb8-b681-c017f90f7ac9",
   "metadata": {},
   "outputs": [],
   "source": [
    "# Access the Plot Options plugin\n",
    "plot_options = specviz.plugins[\"Plot Options\"]\n",
    "\n",
    "# Set the line color to blue\n",
    "plot_options.line_color = \"blue\"\n",
    "#plot_options.line_color = \"#ff0000\" \n",
    "# You can use other color names (e.g., \"red\", \"green\") or hexadecimal values (e.g., \"#ff0000\")\n",
    "\n",
    "# Set the line width to 2\n",
    "plot_options.line_width = 2\n",
    "\n",
    "# Enable line steps (makes the line step-like)\n",
    "plot_options.line_as_steps = True\n",
    "\n",
    "# Disable line steps (makes the line smooth instead of step-like)\n",
    "plot_options.line_as_steps = False"
   ]
  },
  {
   "cell_type": "markdown",
   "id": "6a4c0da2-d168-4011-9c9f-c4e1c04ee727",
   "metadata": {},
   "source": [
    "### Export Plots/Data"
   ]
  },
  {
   "cell_type": "code",
   "execution_count": null,
   "id": "27c94388-fb4a-4152-9a2d-472a7ce2c990",
   "metadata": {},
   "outputs": [],
   "source": [
    "export_plugin = specviz.plugins[\"Export\"]\n",
    "export_plugin.subset = \"Subset 1\"\n",
    "export_plugin.filename = \"Subset 2\"\n",
    "export_plugin.export()\n",
    "\n",
    "export_plugin.viewer = \"spectrum-viewer\"\n",
    "export_plugin.viewer_format = \"svg\"\n",
    "export_plugin.filename = \"spectrum_subset1\"\n",
    "export_plugin.export()"
   ]
  },
  {
   "cell_type": "markdown",
   "id": "6e772050-b697-440a-b5e9-dbcfef800dc1",
   "metadata": {},
   "source": [
    "## Specviz2d"
   ]
  },
  {
   "cell_type": "code",
   "execution_count": null,
   "id": "019571b9-2d5f-4318-9206-584cf1d30017",
   "metadata": {},
   "outputs": [],
   "source": [
    "specviz2d = Specviz2d()\n",
    "specviz2d.show()\n",
    "# specviz2d.load_data(\"../hlsp_jades_jwst_nirspec_goods-n-mediumhst-00000755_clear-prism_v1.0_s2d.fits\")\n",
    "specviz2d.load_data(\"../hlsp_jades_jwst_nirspec_goods-n-mediumhst-00000604_clear-prism_v1.0_s2d.fits\")"
   ]
  },
  {
   "cell_type": "code",
   "execution_count": null,
   "id": "7c0681ee-b0fc-47c9-9bef-483f5b99d805",
   "metadata": {},
   "outputs": [],
   "source": [
    "spectral_extraction = specviz2d.plugins[\"Spectral Extraction\"]"
   ]
  },
  {
   "cell_type": "code",
   "execution_count": null,
   "id": "013f20b5-c866-403c-9456-5aabad28eea8",
   "metadata": {},
   "outputs": [],
   "source": [
    "spectral_extraction.open_in_tray()"
   ]
  },
  {
   "cell_type": "code",
   "execution_count": null,
   "id": "449269dd-287f-4917-b363-5225314ec4fa",
   "metadata": {},
   "outputs": [],
   "source": []
  },
  {
   "cell_type": "code",
   "execution_count": null,
   "id": "5e390704-3437-4735-8c23-dc7eceadbc65",
   "metadata": {},
   "outputs": [],
   "source": [
    "# Trace options: \n",
    "spectral_extraction.trace_type = 'Polynomial'\n",
    "spectral_extraction.trace_order = 3\n",
    "spectral_extraction.trace_pixel = 23\n",
    "spectral_extraction.trace_bins = 10\n",
    "spectral_extraction.trace_window = 6"
   ]
  },
  {
   "cell_type": "code",
   "execution_count": null,
   "id": "fa7c32bf-50f8-4b15-8064-51a7d5328078",
   "metadata": {},
   "outputs": [],
   "source": [
    "spectral_extraction.bg_type = 'OneSided'\n",
    "spectral_extraction.bg_separation = 3\n",
    "spectral_extraction.bg_width = 8\n",
    "spectral_extraction.bg_statistic = 'Median'"
   ]
  },
  {
   "cell_type": "code",
   "execution_count": null,
   "id": "bf533857-64d7-4c70-90a0-10cab1611e0c",
   "metadata": {},
   "outputs": [],
   "source": [
    "dir(spectral_extraction)"
   ]
  }
 ],
 "metadata": {
  "kernelspec": {
   "display_name": "Python 3 (ipykernel)",
   "language": "python",
   "name": "python3"
  },
  "language_info": {
   "codemirror_mode": {
    "name": "ipython",
    "version": 3
   },
   "file_extension": ".py",
   "mimetype": "text/x-python",
   "name": "python",
   "nbconvert_exporter": "python",
   "pygments_lexer": "ipython3",
   "version": "3.12.7"
  }
 },
 "nbformat": 4,
 "nbformat_minor": 5
}
