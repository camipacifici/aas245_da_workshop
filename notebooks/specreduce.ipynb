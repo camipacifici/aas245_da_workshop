{
 "cells": [
  {
   "cell_type": "markdown",
   "id": "80876f9c-2019-4959-a0c1-0b42fce8c8bb",
   "metadata": {},
   "source": [
    "![title](https://github.com/STScI-MIRI/MRS-ExampleNB/raw/main/assets/banner1.png)"
   ]
  },
  {
   "cell_type": "markdown",
   "id": "faaaaafd-c448-4d82-8a2b-d8ac82c33205",
   "metadata": {},
   "source": [
    "# Specreduce Demo\n",
    "**AAS 245 National Harbor, Jan 2025**<br>\n",
    "**Author** : Camilla Pacifici, Space Telescope Science Institute\n",
    "\n",
    "**Tutorial Overview**<br>\n",
    "This tutorial will show the basic spectral extraction functionality in the Astropy package [Specreduce](https://specreduce.readthedocs.io/en/latest/). We will:\n",
    "\n",
    "1. Download a 2D spectrum and look at it using Jdaviz/Specviz2d\n",
    "2. Read the spectrum with Specutils/Spectrum1D\n",
    "3. Calculate the trace \n",
    "4. Set up the background\n",
    "5. Extract the 1D spectrum"
   ]
  },
  {
   "cell_type": "markdown",
   "id": "2f28b23f-4a49-4fe1-8ba9-dc417b26978c",
   "metadata": {},
   "source": [
    "## Import"
   ]
  },
  {
   "cell_type": "code",
   "execution_count": null,
   "id": "191f6ab3-634a-4161-b9a6-95970bdfb792",
   "metadata": {},
   "outputs": [],
   "source": [
    "# Jdaviz to visualize the spectrum\n",
    "from jdaviz import Specviz2d\n",
    "# Matplotlib for other plotting\n",
    "from matplotlib import pyplot as plt\n",
    "# Astropy to load the spectrum\n",
    "from astropy.io import fits\n",
    "from astropy import units as u\n",
    "from astropy.nddata import StdDevUncertainty\n",
    "# Astropy modeling for fitting\n",
    "from astropy.modeling.models import Polynomial1D, Spline1D\n",
    "# Specutils to manipulate the spectrum\n",
    "from specutils import Spectrum1D\n",
    "# Specreduce methods for tracing, background, and extracting\n",
    "from specreduce.tracing import FlatTrace, FitTrace\n",
    "from specreduce.background import Background\n",
    "from specreduce.extract import BoxcarExtract, HorneExtract"
   ]
  },
  {
   "cell_type": "markdown",
   "id": "8a83e218-0c3e-4a45-b998-7b18abeeb555",
   "metadata": {},
   "source": [
    "## Loading Data\n",
    "Use the example spectrum provided or your own spectrum"
   ]
  },
  {
   "cell_type": "code",
   "execution_count": null,
   "id": "5c75536e-e679-4dbe-94eb-b340423711fc",
   "metadata": {},
   "outputs": [],
   "source": [
    "file = './hlsp_jades_jwst_nirspec_goods-n-mediumhst-00000804_clear-prism_v1.0_s2d.fits'"
   ]
  },
  {
   "cell_type": "markdown",
   "id": "0e8cfe7e-33fa-4965-8a20-abdfecfe03d8",
   "metadata": {},
   "source": [
    "Load the spectrum in Specviz2d to take a look. As you can see, this is very convenient when you are working with a single spectrum."
   ]
  },
  {
   "cell_type": "code",
   "execution_count": null,
   "id": "a11eed41-978f-4f6c-a5c5-9064b0f5fe14",
   "metadata": {},
   "outputs": [],
   "source": [
    "viz = Specviz2d()\n",
    "viz.load_data(file)\n",
    "viz.show()"
   ]
  },
  {
   "cell_type": "markdown",
   "id": "ab62ab28-b2cf-4377-9682-173e075c97ea",
   "metadata": {},
   "source": [
    "## Load the spectrum using Specutils\n",
    "If you are working with many spectra, you might want to use API methods. Here is a simple workflow."
   ]
  },
  {
   "cell_type": "code",
   "execution_count": null,
   "id": "df68c6dd-5ddd-4ca9-acf6-97df2a132096",
   "metadata": {},
   "outputs": [],
   "source": [
    "hdu = fits.open(file)\n",
    "hdu.info()"
   ]
  },
  {
   "cell_type": "code",
   "execution_count": null,
   "id": "88d0b938-6fc6-4c14-affc-e41b73d16a19",
   "metadata": {},
   "outputs": [],
   "source": [
    "flux = hdu['FLUX'].data\n",
    "fluxunit = u.Unit(hdu['FLUX'].header['GUNIT'])\n",
    "fluxerr = hdu['FLUX_ERR'].data\n",
    "fluxerrunit = u.Unit(hdu['FLUX_ERR'].header['UNIT'])\n",
    "wave = hdu['WAVELENGTH'].data\n",
    "waveunit = u.Unit(hdu['WAVELENGTH'].header['UNIT'])\n",
    "\n",
    "spec2d = Spectrum1D(spectral_axis=wave*waveunit,\n",
    "                    flux=flux*fluxunit,\n",
    "                    uncertainty=StdDevUncertainty(fluxerr*fluxerrunit))\n",
    "\n",
    "spec2d"
   ]
  },
  {
   "cell_type": "markdown",
   "id": "e4c2960c-df8f-4879-8050-0fb4693a68eb",
   "metadata": {},
   "source": [
    "## Find the trace\n",
    "First simple flat, then fit..."
   ]
  },
  {
   "cell_type": "code",
   "execution_count": null,
   "id": "7a81e09c-63c7-4c9d-ad03-3c2cf6c1af49",
   "metadata": {},
   "outputs": [],
   "source": [
    "trace = FlatTrace(spec2d, 14)\n",
    "trace.trace_pos"
   ]
  },
  {
   "cell_type": "code",
   "execution_count": null,
   "id": "109eb725-eb94-4e8c-830d-60b42fd9f9fe",
   "metadata": {},
   "outputs": [],
   "source": [
    "plt.figure(figsize=(20,3))\n",
    "plt.imshow(spec2d.flux, vmin=0, vmax=1E-20, origin='lower')\n",
    "plt.hlines(trace.trace_pos, xmin=0, xmax=len(wave), color='red')\n",
    "plt.show()"
   ]
  },
  {
   "cell_type": "code",
   "execution_count": null,
   "id": "1ab9e09e-020f-4743-9a28-49175292cdfd",
   "metadata": {},
   "outputs": [],
   "source": [
    "# tracefit = FitTrace?\n",
    "tracefit = FitTrace(spec2d, bins=50,\n",
    "                    guess=trace.trace_pos,\n",
    "                    window=10,\n",
    "                    trace_model=Polynomial1D(1)\n",
    "                   )\n",
    "# tracefit.trace.data"
   ]
  },
  {
   "cell_type": "code",
   "execution_count": null,
   "id": "8414602c-cea0-428d-842b-564fcdba3e12",
   "metadata": {},
   "outputs": [],
   "source": [
    "plt.figure(figsize=(20,3))\n",
    "plt.imshow(spec2d.flux, vmin=0, vmax=1E-20, origin='lower')\n",
    "plt.plot(tracefit.trace.data, color='red')\n",
    "plt.show()"
   ]
  },
  {
   "cell_type": "markdown",
   "id": "34a466b3-ee34-42c8-9b8f-57f51a217d79",
   "metadata": {},
   "source": [
    "## Background\n",
    "Because of the way JWST observes (nodding) the background is already subtracted. We show the calls, but we do not use them here\n",
    "```\n",
    "bg = Background.two_sided(spec2d, tracefit, separation=7, width=3)\n",
    "subtracted_image = spec2d - bg\n",
    "```"
   ]
  },
  {
   "cell_type": "markdown",
   "id": "fcd5ac66-a213-4bed-b97d-160ba817c7b1",
   "metadata": {},
   "source": [
    "## Extraction\n",
    "Bla bla...notes..."
   ]
  },
  {
   "cell_type": "code",
   "execution_count": null,
   "id": "1896757b-1fa6-472c-ac5f-4522eacc16dd",
   "metadata": {},
   "outputs": [],
   "source": [
    "# extract = BoxcarExtract?\n",
    "extract = BoxcarExtract(spec2d,\n",
    "                        tracefit,\n",
    "                        width=5\n",
    "                       )\n",
    "spec1d = extract.spectrum\n",
    "spec1d"
   ]
  },
  {
   "cell_type": "code",
   "execution_count": null,
   "id": "eb5d34fc-6dbe-48ff-8690-ea3913f04c53",
   "metadata": {},
   "outputs": [],
   "source": [
    "plt.plot(spec1d.spectral_axis, spec1d.flux)\n",
    "plt.xlabel('wavelength')\n",
    "plt.ylabel('flux')\n",
    "plt.show()"
   ]
  },
  {
   "cell_type": "code",
   "execution_count": null,
   "id": "5d2ecf5c-b121-451f-aeae-843b9495c4a6",
   "metadata": {},
   "outputs": [],
   "source": []
  }
 ],
 "metadata": {
  "kernelspec": {
   "display_name": "Python 3 (ipykernel)",
   "language": "python",
   "name": "python3"
  },
  "language_info": {
   "codemirror_mode": {
    "name": "ipython",
    "version": 3
   },
   "file_extension": ".py",
   "mimetype": "text/x-python",
   "name": "python",
   "nbconvert_exporter": "python",
   "pygments_lexer": "ipython3",
   "version": "3.12.8"
  }
 },
 "nbformat": 4,
 "nbformat_minor": 5
}
