{
 "cells": [
  {
   "cell_type": "markdown",
   "id": "09a8d867-2cbe-42f1-8ad6-a09b05dcaf78",
   "metadata": {},
   "source": [
    "### Exercise 1:\n",
    "Using the file above\n",
    "\n",
    "- Open the file and read the WCS\n",
    "- Display the bounding_box\n",
    "- Generate the grid of inputs Extra bonus\n",
    "  - Generate a grid using the edge of the pixels instead of the centers (hint: use the center parameter)\n",
    "  - Generate a grid with sampling every 5 pixels (hint: use the step parameter)\n",
    "- Use the Shared and Legacy APIs to generate world coordinates\n",
    "- Evaluate the WCS on x=4088 and y=4088\n",
    "- Compute the footprint of the image on sky"
   ]
  },
  {
   "cell_type": "code",
   "execution_count": null,
   "id": "df428ed5-ca9d-48a9-afc0-3d5c1c0ff881",
   "metadata": {},
   "outputs": [],
   "source": [
    "from roman_datamodels import datamodels as rdm\n",
    "cal = rdm.open('../roman.asdf')"
   ]
  },
  {
   "cell_type": "code",
   "execution_count": null,
   "id": "60f0cccf-5f87-48db-9d06-1a4e7a8e72e1",
   "metadata": {},
   "outputs": [],
   "source": [
    "w = cal.meta.wcs\n",
    "print(f\"Bounding box : \\n\\n {w.bounding_box}\")"
   ]
  },
  {
   "cell_type": "code",
   "execution_count": null,
   "id": "be4aab2f-56d0-4d62-acc2-fd91e6f06122",
   "metadata": {},
   "outputs": [],
   "source": [
    "from gwcs.wcstools import grid_from_bounding_box\n",
    "\n",
    "x, y = grid_from_bounding_box(w.bounding_box)\n",
    "print(x)\n",
    "print(y)"
   ]
  },
  {
   "cell_type": "code",
   "execution_count": null,
   "id": "d38bcabd-cb9f-44ba-a136-2e580ed1ff59",
   "metadata": {},
   "outputs": [],
   "source": [
    "x_edge, y_edge = grid_from_bounding_box(w.bounding_box, center=False)\n",
    "print(x_edge)\n",
    "print('\\n\\n')\n",
    "print(y_edge)"
   ]
  },
  {
   "cell_type": "code",
   "execution_count": null,
   "id": "c9f9641f-9ed7-4a42-bae9-8fb396acbfb0",
   "metadata": {},
   "outputs": [],
   "source": [
    "x_edge_5, y_edge_5 = grid_from_bounding_box(w.bounding_box, center=False, step=5)\n",
    "print(x_edge_5)\n",
    "print('\\n\\n')\n",
    "print(y_edge_5)"
   ]
  },
  {
   "cell_type": "code",
   "execution_count": null,
   "id": "d6c33528-e361-4382-802b-7948d5e3e3ca",
   "metadata": {},
   "outputs": [],
   "source": [
    "# Use the Shared and Legacy APIs to generate world coordinates\n",
    "\n",
    "ra, dec = w(x_edge_5, y_edge_5)\n",
    "print(ra, dec)"
   ]
  },
  {
   "cell_type": "code",
   "execution_count": null,
   "id": "9e15697f-f69d-4d10-b89c-4cf06b4b66ad",
   "metadata": {},
   "outputs": [],
   "source": [
    "sky = w.pixel_to_world(x, y)\n",
    "print(sky)"
   ]
  },
  {
   "cell_type": "code",
   "execution_count": null,
   "id": "8f0331f2-e994-41ed-8878-c31e563f6f38",
   "metadata": {},
   "outputs": [],
   "source": [
    "# Compute the footprint of the image on sky\n",
    "\n",
    "print(f\"Footprint on sky: \\n {w.footprint()}\")"
   ]
  },
  {
   "cell_type": "markdown",
   "id": "914c8642-0479-42e4-a918-0f4be1a3a9b1",
   "metadata": {},
   "source": [
    "### Exercise 2:\n",
    "\n",
    "- Use the prescription above to generate a compound model with different parameters.\n",
    "- Using this new transform generate a GWCS object. The coordinate frames can be accessed by `wcs.input_frame` and `wcs.output_frame`."
   ]
  },
  {
   "cell_type": "code",
   "execution_count": null,
   "id": "b66bcc9f-8e5d-4fb1-a2f8-73852476ee39",
   "metadata": {},
   "outputs": [],
   "source": [
    "from astropy.modeling import models as astm\n",
    "\n",
    "from stdatamodels.jwst import datamodels"
   ]
  },
  {
   "cell_type": "code",
   "execution_count": null,
   "id": "4ba4d7c6-0bb9-4f48-9445-a656d24db99b",
   "metadata": {},
   "outputs": [],
   "source": [
    "jcal = datamodels.open('../jwst.fits')"
   ]
  },
  {
   "cell_type": "code",
   "execution_count": null,
   "id": "461c7d20-22fd-4146-9d65-7b034ba41b17",
   "metadata": {},
   "outputs": [],
   "source": [
    "jw = jcal.meta.wcs\n",
    "print(jw.forward_transform)"
   ]
  },
  {
   "cell_type": "code",
   "execution_count": null,
   "id": "75853892-93c1-4e5d-96c0-c8535567a174",
   "metadata": {},
   "outputs": [],
   "source": [
    "shifts = astm.Shift(-10) & astm.Shift(-10.4)\n",
    "\n",
    "affine = astm.AffineTransformation2D(matrix=[[0.31671001, -0.94852241], [-0.94852241, -0.31671001]], translation=[0., 0.])\n",
    "\n",
    "scales = astm.Scale(.00011) & astm.Scale(.00012)\n",
    "\n",
    "tan = astm.Pix2Sky_TAN()\n",
    "\n",
    "n2c = astm.RotateNative2Celestial(lon=56.3, lat=-72.1, lon_pole=180)\n"
   ]
  },
  {
   "cell_type": "code",
   "execution_count": null,
   "id": "d182f9f1-9fe2-4dff-9671-2f1dc8071b81",
   "metadata": {},
   "outputs": [],
   "source": [
    "forward = shifts | affine | scales | tan | n2c\n",
    "\n",
    "print(forward)"
   ]
  },
  {
   "cell_type": "code",
   "execution_count": null,
   "id": "f8e1667f-e22b-4053-a094-e0041f358852",
   "metadata": {},
   "outputs": [],
   "source": [
    "from gwcs import wcs\n",
    "from gwcs import coordinate_frames as cf\n",
    "\n",
    "from astropy import units as u\n",
    "from astropy.coordinates import ICRS"
   ]
  },
  {
   "cell_type": "code",
   "execution_count": null,
   "id": "b82d6821-93d0-4158-bfb3-ad56c3bc0166",
   "metadata": {},
   "outputs": [],
   "source": [
    "detector = cf.Frame2D(name='detector', axes_names=('x', 'y'), unit=(u.ppix, u.pix))\n",
    "\n",
    "celestial = cf.CelestialFrame(name='icrs', axes_names=('ra', 'dec'), unit=(u.deg, u.deg))"
   ]
  },
  {
   "cell_type": "code",
   "execution_count": null,
   "id": "9b6e8d14-211a-43b5-b2f7-f57af1868a90",
   "metadata": {},
   "outputs": [],
   "source": [
    "wnew = wcs.WCS(input_frame=detector, output_frame=celestial, forward_transform=forward)"
   ]
  },
  {
   "cell_type": "code",
   "execution_count": null,
   "id": "71e59f42-fc07-4ffe-be01-4f6c23de9deb",
   "metadata": {},
   "outputs": [],
   "source": [
    "wnew.invert(56.3, -72.1)"
   ]
  },
  {
   "cell_type": "code",
   "execution_count": null,
   "id": "2461662f-cf1e-4020-a182-79b8853719ff",
   "metadata": {},
   "outputs": [],
   "source": []
  }
 ],
 "metadata": {
  "kernelspec": {
   "display_name": "Python 3 (ipykernel)",
   "language": "python",
   "name": "python3"
  },
  "language_info": {
   "codemirror_mode": {
    "name": "ipython",
    "version": 3
   },
   "file_extension": ".py",
   "mimetype": "text/x-python",
   "name": "python",
   "nbconvert_exporter": "python",
   "pygments_lexer": "ipython3",
   "version": "3.11.10"
  }
 },
 "nbformat": 4,
 "nbformat_minor": 5
}
