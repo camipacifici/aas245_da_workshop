{
 "cells": [
  {
   "cell_type": "markdown",
   "id": "8c29bcec",
   "metadata": {},
   "source": [
    "# Introduction to the Advanced Scientific Data Format (ASDF)\n",
    "\n",
    "\n",
    "#### Nadia Dencheva, Brett Graham, Perry Greenfield\n",
    "\n",
    "\n",
    "##### AAS 245"
   ]
  },
  {
   "cell_type": "markdown",
   "id": "a596c595",
   "metadata": {},
   "source": [
    "## Motivation"
   ]
  },
  {
   "cell_type": "markdown",
   "id": "60b8c4b2",
   "metadata": {},
   "source": [
    "The Advanced Scientific Data Format (ASDF) is a hierarchical, extensible, efficient file format. It was designed to:\n",
    "- handle complex data structrues required for modern data calibration routines\n",
    "- include human readable metadata\n",
    "- be suitable for archival data (versioned, backwards compatible, intuitive structure)\n",
    "- build off existing standards (YAML, jsonschema)\n",
    "- be easily extensible\n",
    "- allow efficient flexible storage of binary data"
   ]
  },
  {
   "cell_type": "markdown",
   "id": "f5ae0ec3",
   "metadata": {},
   "source": [
    "## Outline of ASDF Format"
   ]
  },
  {
   "cell_type": "markdown",
   "id": "0e0a38ec-cd7b-4306-9b64-e4dbecd4d060",
   "metadata": {},
   "source": [
    "```yaml\n",
    "#ASDF 1.0.0\n",
    "#ASDF_STANDARD 1.5.0\n",
    "%YAML 1.1\n",
    "%TAG ! tag:stsci.edu:asdf/\n",
    "--- !core/asdf-1.1.0\n",
    "asdf_library: !core/software-1.0.0 {author: The ASDF Developers, homepage: 'http://github.com/asdf-format/asdf',\n",
    "  name: asdf, version: 3.0.1}\n",
    "history:\n",
    "  extensions:\n",
    "  - !core/extension_metadata-1.0.0\n",
    "    extension_class: asdf.extension._manifest.ManifestExtension\n",
    "    extension_uri: asdf://asdf-format.org/core/extensions/core-1.5.0\n",
    "    software: !core/software-1.0.0 {name: asdf, version: 3.0.1}\n",
    "data: !core/ndarray-1.0.0\n",
    "  source: 0\n",
    "  datatype: int64\n",
    "  byteorder: little\n",
    "  shape: [8]\n",
    "...\n",
    "# binary block data omitted for display...\n",
    "%YAML 1.1\n",
    "---\n",
    "- 582\n",
    "...\n",
    "```"
   ]
  },
  {
   "cell_type": "markdown",
   "id": "14291c6a",
   "metadata": {},
   "source": [
    "- Header containing metadata and structure information uses YAML\n",
    "- Header followed by optionally 1 or more binary blocks\n",
    "- Uses YAML Tags for type information\n",
    "- Uses YAML anchors and aliases to share common elements.\n",
    "- JSON Schema used for validation\n"
   ]
  },
  {
   "cell_type": "markdown",
   "id": "824e263a",
   "metadata": {},
   "source": [
    "## Uses by Astronomy Institutions"
   ]
  },
  {
   "cell_type": "markdown",
   "id": "e97e0f16",
   "metadata": {},
   "source": [
    "- James Webb Space Telescope\n",
    "- Nancy Grace Roman Space Telescope (Wide Field Infra-Red survey telescope to be launched in 2026)\n",
    "- Daniel K. Inouye Solar Telescope\n",
    "- Vera Rubin Telescope for WCS interchange."
   ]
  },
  {
   "cell_type": "markdown",
   "id": "3bf75c55",
   "metadata": {},
   "source": [
    "## Example of Special Capability: Serialization of Analytical Models"
   ]
  },
  {
   "cell_type": "markdown",
   "id": "0058b2cc",
   "metadata": {},
   "source": [
    "- Able to serialize Astropy models without using pickle\n",
    "- Individual models\n",
    "- Expressions of models\n",
    "  - as expression trees\n",
    "- Supports multidimensional models, along with \"plumbing\" tools to route\n",
    "  outputs of one model into different dimensions of other models\n",
    "- Basis of WCS support for James Webb and Nancy Grace Roman Space Telescopes"
   ]
  },
  {
   "cell_type": "markdown",
   "id": "75e64963",
   "metadata": {},
   "source": [
    "## Sources of Information\n",
    "\n",
    "- Original ASDF Paper: https://www.sciencedirect.com/science/article/pii/S2213133715000645\n",
    "- Standard Documentation: https://asdf-standard.readthedocs.io/en/latest/\n",
    "- Python package documentation: https://asdf.readthedocs.io/en/stable/\n",
    "- Tutorial on writing extensions: https://github.com/asdf-format/scipy2022tutorial\n",
    "- ASDF Github organization: https://github.com/asdf-format"
   ]
  },
  {
   "cell_type": "markdown",
   "id": "631a00e3-6828-4421-b216-73dca65dc08a",
   "metadata": {},
   "source": [
    "## Other resources\n",
    "\n",
    "##### There are two mailing lists for ASDF\n",
    "\n",
    "* [asdf-users](https://groups.google.com/forum/#!forum/asdf-users)\n",
    "* [asdf-developers](https://groups.google.com/forum/#!forum/asdf-developers)\n",
    "\n",
    "##### Office hours - every first Friday of the month at noon ET\n",
    "\n",
    "* [community calls](https://github.com/asdf-format/community-calls)"
   ]
  }
 ],
 "metadata": {
  "kernelspec": {
   "display_name": "Python 3 (ipykernel)",
   "language": "python",
   "name": "python3"
  },
  "language_info": {
   "codemirror_mode": {
    "name": "ipython",
    "version": 3
   },
   "file_extension": ".py",
   "mimetype": "text/x-python",
   "name": "python",
   "nbconvert_exporter": "python",
   "pygments_lexer": "ipython3",
   "version": "3.12.4"
  }
 },
 "nbformat": 4,
 "nbformat_minor": 5
}
