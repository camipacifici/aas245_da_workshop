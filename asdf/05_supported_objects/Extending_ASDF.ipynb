{
 "cells": [
  {
   "cell_type": "markdown",
   "id": "6921f826-b911-48db-97ef-2640b0885cd7",
   "metadata": {},
   "source": [
    "## Extending ASDF\n",
    "Many simple data stuctures can be stored using the core objects supported by all ASDF implementations. For domain-specific and other custom structures asdf supports an extension system that allows transparent saving and loading of custom objects."
   ]
  },
  {
   "cell_type": "code",
   "execution_count": null,
   "id": "2756d608-ae13-4d41-a729-3b4af0807307",
   "metadata": {},
   "outputs": [],
   "source": [
    "import os\n",
    "import numpy as np\n",
    "import asdf\n",
    "\n",
    "np.random.seed(42)\n",
    "\n",
    "def print_file(fn):\n",
    "    \"\"\"\n",
    "    A helper function to print out an ASDF file\n",
    "    \"\"\"\n",
    "    with open(fn, \"r\", encoding=\"unicode_escape\") as f:\n",
    "        print(f.read())"
   ]
  },
  {
   "cell_type": "markdown",
   "id": "41977cea-b5a3-4f41-b98b-9b430956f6b3",
   "metadata": {},
   "source": [
    "## Extension overview\n",
    "\n",
    "For most users installing an extension is as easy as `pip install my_asdf_extension`.\n",
    "\n",
    "For developers please see the [documentation](https://asdf.readthedocs.io/en/latest/asdf/extending/extensions.html) to get started developing an extension.\n",
    "\n",
    "Extensions include:\n",
    "- code that maps custom objects to other supported structures\n",
    "- tags that annotate these structures\n",
    "- schemas that constrain these structures"
   ]
  },
  {
   "cell_type": "markdown",
   "id": "30ccaf61-7b62-4b91-8828-851ff198e43f",
   "metadata": {},
   "source": [
    "# ⭐ The asdf-astropy extension\n",
    "\n",
    "As mentioned above, asdf provides an extension API that can be used to save custom objects to ASDF files. [asdf-astropy](https://pypi.org/project/asdf-astropy/) is an ASDF extension that supports many [Astropy](https://www.astropy.org/) objects. To set up the extension all you need to do is `pip install asdf-astropy`.\n",
    "\n",
    "Once the extension is installed many [Astropy](https://www.astropy.org/) objects will be supported including:\n",
    "\n",
    "- [unit](https://docs.astropy.org/en/stable/units/ref_api.html#module-astropy.units) and [quantity](https://docs.astropy.org/en/stable/units/quantity.html) objects\n",
    "- (most) [modeling](https://docs.astropy.org/en/stable/modeling/index.html) objects\n",
    "- [time](https://docs.astropy.org/en/stable/time/index.html) objects\n",
    "- [coordinate](https://docs.astropy.org/en/stable/coordinates/index.html) objects\n",
    "- [tables](https://docs.astropy.org/en/stable/table/index.html)\n",
    "\n",
    "For example, to save an astropy [Table](https://docs.astropy.org/en/stable/api/astropy.table.Table.html#astropy.table.Table) simply add it to the ASDF tree:"
   ]
  },
  {
   "cell_type": "code",
   "execution_count": null,
   "id": "7ab6465b-ff49-473e-bd63-bcca3118134e",
   "metadata": {},
   "outputs": [],
   "source": [
    "import asdf\n",
    "from astropy.table import Table\n",
    "\n",
    "af = asdf.AsdfFile()\n",
    "af[\"table\"] = Table(dtype=[(\"a\", \"f4\"), (\"b\", \"i4\"), (\"c\", \"S2\")])\n",
    "af.write_to(\"table.asdf\")\n",
    "print_file(\"table.asdf\")"
   ]
  },
  {
   "cell_type": "markdown",
   "id": "8f941330-c652-4b74-afb4-691cc9f4717b",
   "metadata": {},
   "source": [
    "Notice above that the Table is broken down into several nested \"tagged\" mappings. When loaded asdf will reconstruct the Table without the user needing to be aware of any of this serialization and deserialization"
   ]
  },
  {
   "cell_type": "code",
   "execution_count": null,
   "id": "56cf72ed-e972-4b4c-b4b5-2f1b9376dff7",
   "metadata": {},
   "outputs": [],
   "source": [
    "af = asdf.open(\"table.asdf\")\n",
    "print(type(af[\"table\"]))\n",
    "af[\"table\"]"
   ]
  },
  {
   "cell_type": "markdown",
   "id": "2b487c97-b3b1-417c-9840-288db9490267",
   "metadata": {},
   "source": [
    "# Exercise: Saving Astropy objects\n",
    "\n",
    "Write an ASDF file containing the following `astropy` objects:\n",
    "1. [Quantity](https://docs.astropy.org/en/stable/units/quantity.html)\n",
    "2. A [model](https://docs.astropy.org/en/stable/api/astropy.modeling.Model.html#astropy.modeling.Model)\n",
    "\n",
    "   Hint: The [astropy.modeling](https://docs.astropy.org/en/stable/modeling/index.html) package provides a framework for representing models and performing model evaluation and fitting. Models are initialized using their parameters like in the following example for [Gaussian1D](https://docs.astropy.org/en/stable/api/astropy.modeling.functional_models.Gaussian1D.html#astropy.modeling.functional_models.Gaussian1D):\n",
    "   ```\n",
    "   from astropy.modeling import models\n",
    "   gauss = models.Gaussian1D(amplitude=10, mean=3, stddev=1.2)\n",
    "   ```\n",
    "3. A [Time](https://docs.astropy.org/en/stable/time/index.html) object\n",
    "\n",
    "    Hint: The [astropy.time](https://docs.astropy.org/en/stable/time/ref_api.html#module-astropy.time) package provides functionality for manipulating times and dates. To initialize it supply a string and a [format](https://docs.astropy.org/en/stable/time/index.html#id3), or supply a datetime object.\n",
    "    \n",
    "4. A [ICRS](https://docs.astropy.org/en/stable/api/astropy.coordinates.ICRS.html) coordinate object."
   ]
  },
  {
   "cell_type": "markdown",
   "id": "ca66cf76-6c44-4b60-b258-e8807396b50a",
   "metadata": {},
   "source": [
    "## The roman_datamodels extension\n",
    "\n",
    "Roman files make use of an asdf extension provided by roman_datamodels to allow reading and writing roman Data Models. This will largely be transparent to the user (especially if they use the data model API provided by roman_datamodels) but can be seen by inspecting types in the example file."
   ]
  },
  {
   "cell_type": "code",
   "execution_count": null,
   "id": "f2215d0e-9d89-433b-b049-6f9304af6d10",
   "metadata": {},
   "outputs": [],
   "source": [
    "af = asdf.open(\"../data/roman.asdf\")\n",
    "type(af[\"roman\"])"
   ]
  },
  {
   "cell_type": "markdown",
   "id": "ec814745-46af-4193-860f-f7079c13c952",
   "metadata": {},
   "source": [
    "Although the value stored under the \"roman\" key behaves like a dictionary it is an instance of a special \"node\" class. The same is true for some of the nested structures."
   ]
  },
  {
   "cell_type": "code",
   "execution_count": null,
   "id": "4de0337b-ac5a-43a1-87d3-dc8b093ff6f1",
   "metadata": {},
   "outputs": [],
   "source": [
    "type(af[\"roman\"][\"meta\"][\"exposure\"])"
   ]
  },
  {
   "cell_type": "markdown",
   "id": "959b5e57-33d5-447f-9e67-f47690a76d91",
   "metadata": {},
   "source": [
    "These special nodes can be useful for inspecting associated schemas for determining allowed values."
   ]
  },
  {
   "cell_type": "code",
   "execution_count": null,
   "id": "6d6c7baf-2b2d-4af4-8932-eb6714cb7716",
   "metadata": {},
   "outputs": [],
   "source": [
    "exposure_schema = af[\"roman\"][\"meta\"][\"exposure\"].get_schema()\n",
    "exposure_schema[\"properties\"][\"type\"]"
   ]
  },
  {
   "cell_type": "markdown",
   "id": "69a72bab-3bc2-43bb-baca-3c57e9d37a77",
   "metadata": {},
   "source": [
    "## Other extensions\n",
    "For more examples see the following packages which provide asdf extensions supporting other custom types:\n",
    "- gwcs\n",
    "- dkist\n",
    "- sunpy\n",
    "- asdf-zarr"
   ]
  }
 ],
 "metadata": {
  "kernelspec": {
   "display_name": "Python 3 (ipykernel)",
   "language": "python",
   "name": "python3"
  },
  "language_info": {
   "codemirror_mode": {
    "name": "ipython",
    "version": 3
   },
   "file_extension": ".py",
   "mimetype": "text/x-python",
   "name": "python",
   "nbconvert_exporter": "python",
   "pygments_lexer": "ipython3",
   "version": "3.12.4"
  }
 },
 "nbformat": 4,
 "nbformat_minor": 5
}
