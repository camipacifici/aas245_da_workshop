{
 "cells": [
  {
   "cell_type": "markdown",
   "id": "e92fc203-b2b0-4297-bba8-7a07b0921999",
   "metadata": {},
   "source": [
    "## Goals\n",
    "\n",
    "- Open a roman science file with the python asdf library\n",
    "- Use tools for looking at the file and searching for attributes\n",
    "- Display an image contained in the file\n",
    "- Access and modify metadata\n",
    "- Write the file to disk\n",
    "\n",
    "The file roman.asdf is presumed to be in the tutorial's data/ directory. This is simulated data from the [OpenUniverse2024 project](https://irsa.ipac.caltech.edu/data/theory/openuniverse2024/overview.html) packaged as a level 2 calibrated data model"
   ]
  },
  {
   "cell_type": "code",
   "execution_count": null,
   "id": "1c291d48-ea19-4d6e-b7f9-abe3414ce38f",
   "metadata": {},
   "outputs": [],
   "source": [
    "import numpy as np\n",
    "import asdf\n",
    "\n",
    "from matplotlib import pyplot as plt\n",
    "%matplotlib widget"
   ]
  },
  {
   "cell_type": "markdown",
   "id": "1dc8b2f8-4f2a-4493-9103-e067be154ca8",
   "metadata": {},
   "source": [
    "Load ASDF file\n",
    "--------------"
   ]
  },
  {
   "cell_type": "code",
   "execution_count": null,
   "id": "28195548-15e7-4c7e-a1fc-92f3d7dea9f3",
   "metadata": {},
   "outputs": [],
   "source": [
    "af = asdf.open('../data/roman.asdf')\n",
    "af"
   ]
  },
  {
   "cell_type": "markdown",
   "id": "1f496674-34b5-4166-b984-8c41621c253b",
   "metadata": {},
   "source": [
    "## Info\n",
    "The file can be rendered using the **info** method"
   ]
  },
  {
   "cell_type": "code",
   "execution_count": null,
   "id": "7758e7ce-8310-405b-a12c-09ee1bd2c153",
   "metadata": {},
   "outputs": [],
   "source": [
    "af.info()"
   ]
  },
  {
   "cell_type": "code",
   "execution_count": null,
   "id": "864ecb72-d7c5-408b-98f5-e9a2fdd6368e",
   "metadata": {},
   "outputs": [],
   "source": [
    "# The file has lots of content so some options are needed to see it all\n",
    "\n",
    "af.info(max_rows=200)"
   ]
  },
  {
   "cell_type": "markdown",
   "id": "18b761d2-80df-4695-aa95-71dcb5d1a4c2",
   "metadata": {},
   "source": [
    "**info** is also a utility function. If called like that it can render specific nodes in the tree.\n",
    "\n",
    "And there's a command line utility **asdftool info** which allows looking at files outside a Python session."
   ]
  },
  {
   "cell_type": "code",
   "execution_count": null,
   "id": "32f161d4-90c6-4bbc-a9bf-12350f97945a",
   "metadata": {},
   "outputs": [],
   "source": [
    "!asdftool info ../data/roman.asdf"
   ]
  },
  {
   "cell_type": "markdown",
   "id": "4ab58edc-3331-47f1-a911-58156cf109f7",
   "metadata": {},
   "source": [
    "## Search\n",
    "Another useful utility is **search** - search by key, value or type."
   ]
  },
  {
   "cell_type": "code",
   "execution_count": null,
   "id": "de512d4e-4ba9-454b-99f9-1d282eb33284",
   "metadata": {},
   "outputs": [],
   "source": [
    "# Search for attributes with exposure in their name/key\n",
    "af.search('exposure')"
   ]
  },
  {
   "cell_type": "markdown",
   "id": "6b9ead86-ebb9-4dde-a2ee-47f082ca0a9d",
   "metadata": {},
   "source": [
    "Regular expressions are supported (and can be used to find exact matches)."
   ]
  },
  {
   "cell_type": "code",
   "execution_count": null,
   "id": "8a9401c7-a11f-44ed-ad86-a0113a48519d",
   "metadata": {},
   "outputs": [],
   "source": [
    "af.search('^exposure_time$')"
   ]
  },
  {
   "cell_type": "markdown",
   "id": "0f5ecf6a-bfa3-4dc3-b1dc-145f587e31c2",
   "metadata": {},
   "source": [
    "Search returns an AsdfSearchResult, use `node` to get the value at that node."
   ]
  },
  {
   "cell_type": "code",
   "execution_count": null,
   "id": "26457b42-ba54-46d6-bb38-ed46eb74c451",
   "metadata": {},
   "outputs": [],
   "source": [
    "result = af.search('^exposure_time$')\n",
    "type(result)"
   ]
  },
  {
   "cell_type": "code",
   "execution_count": null,
   "id": "9f191669-503e-40f0-9231-27930fdfed37",
   "metadata": {},
   "outputs": [],
   "source": [
    "result.node"
   ]
  },
  {
   "cell_type": "markdown",
   "id": "bab77f8f-29d8-40a0-82f8-7b25ae9b872d",
   "metadata": {},
   "source": [
    "## Dictionary-like access\n",
    "\n",
    "AsdfFile instances can also be used much like a python dictionary where values are accessed by key."
   ]
  },
  {
   "cell_type": "code",
   "execution_count": null,
   "id": "b9e6e190-6d53-4abc-9be0-4cd938b368e9",
   "metadata": {},
   "outputs": [],
   "source": [
    "# Accessing attributes: assign an attribute value to a variable\n",
    "exposure_time = af['roman']['meta']['exposure']['exposure_time']\n",
    "exposure_time"
   ]
  },
  {
   "cell_type": "markdown",
   "id": "95c8d321-fbba-4251-9a93-2420219af756",
   "metadata": {},
   "source": [
    "## Tree content\n",
    "\n",
    "Although an ASDF file can contain both a human readable YAML header and binary blocks the entire contents of the file is accessable via the \"tree\". Put another way, array and table data is not separate and can be nested within the \"tree\". Let's look at the \"data\" array in this file."
   ]
  },
  {
   "cell_type": "code",
   "execution_count": null,
   "id": "045f30d7-33d8-4976-a190-fbbdaf6f336b",
   "metadata": {},
   "outputs": [],
   "source": [
    "# Access the \"data\" under the \"roman\" sub-tree\n",
    "im = af['roman']['data']\n",
    "# Plot the data (with restricted values selected for this file)\n",
    "fig, ax = plt.subplots()\n",
    "ax.imshow(im, vmin=18, vmax=200, origin='lower')"
   ]
  },
  {
   "cell_type": "code",
   "execution_count": null,
   "id": "16f10513-96a8-4c0e-9440-8397c6e0cf0e",
   "metadata": {},
   "outputs": [],
   "source": [
    "# let's apply a simple binary threshold to the image\n",
    "thresholded_image = im > (im.mean() + im.std() * 3)\n",
    "fig1, ax1 = plt.subplots()\n",
    "ax1.imshow(thresholded_image, cmap=\"gray\", origin='lower')"
   ]
  },
  {
   "cell_type": "markdown",
   "id": "6a31609c-0fb7-494f-a325-f967bc1e8b69",
   "metadata": {},
   "source": [
    "Modifying the contents\n",
    "----------------------"
   ]
  },
  {
   "cell_type": "code",
   "execution_count": null,
   "id": "2d65930d-041b-40a3-bb6e-f9fcea1e2114",
   "metadata": {},
   "outputs": [],
   "source": [
    "# Arbitrarily change the exposure_time\n",
    "af['roman']['meta']['exposure']['exposure_time'] = 1800\n",
    "af['roman']['meta']['exposure']['exposure_time']"
   ]
  },
  {
   "cell_type": "code",
   "execution_count": null,
   "id": "d32ccdc9-2a85-41a4-a583-af7b26bb0deb",
   "metadata": {},
   "outputs": [],
   "source": [
    "# Replace data with a log version of the image.\n",
    "af['roman']['data'] = np.log(af['roman']['data'])"
   ]
  },
  {
   "cell_type": "code",
   "execution_count": null,
   "id": "d8183126-0767-490b-9ecd-2720f4bb62fc",
   "metadata": {},
   "outputs": [],
   "source": [
    "# Create new meta attribute\n",
    "af['inspected_by'] = 'Jacques Clouseau'"
   ]
  },
  {
   "cell_type": "markdown",
   "id": "35d81717-e156-4209-af0e-d16e199d9740",
   "metadata": {},
   "source": [
    "Saving the modified contents\n",
    "----------------------------"
   ]
  },
  {
   "cell_type": "code",
   "execution_count": null,
   "id": "203dd2de-d319-4e68-82c3-0fa612f58a42",
   "metadata": {},
   "outputs": [],
   "source": [
    "# Save to a different file\n",
    "af.write_to('roman_modified.asdf')"
   ]
  },
  {
   "cell_type": "code",
   "execution_count": null,
   "id": "fe917ed3-a3e5-48c5-abb3-3a3b3332f23a",
   "metadata": {},
   "outputs": [],
   "source": [
    "ls"
   ]
  },
  {
   "cell_type": "markdown",
   "id": "d9701b84-3515-4da4-8218-611a3c2715db",
   "metadata": {},
   "source": [
    "## Roman datamodels\n",
    "Roman ASDF files can also be opened with [roman_datamodels](https://roman-datamodels.readthedocs.io/en/latest/) which provides a slightly different interface and is used by the [romancal](https://roman-pipeline.readthedocs.io/en/latest/) calibration pipeline."
   ]
  },
  {
   "cell_type": "code",
   "execution_count": null,
   "id": "bd23de81-5dc2-46af-b318-d7d49ec27998",
   "metadata": {},
   "outputs": [],
   "source": [
    "import roman_datamodels\n",
    "model = roman_datamodels.open(\"../data/roman.asdf\")\n",
    "print(model)"
   ]
  },
  {
   "cell_type": "markdown",
   "id": "744f7f82-c79e-441d-a45d-0f52ca8c002d",
   "metadata": {},
   "source": [
    "The major differences with the datamodel and \"vanilla\" asdf interface are:\n",
    "- there is no top level \"roman\" key/attribute\n",
    "- items are accessed as attributes (`model.meta`) instead of by key (`af['roman']['meta']`)\n",
    "- saving uses [save](https://roman-datamodels.readthedocs.io/en/latest/api/roman_datamodels.datamodels.DataModel.html#roman_datamodels.datamodels.DataModel.save) instead of [write_to](https://asdf.readthedocs.io/en/latest/api/asdf.AsdfFile.html#asdf.AsdfFile.write_to)"
   ]
  },
  {
   "cell_type": "code",
   "execution_count": null,
   "id": "a809ea47-02eb-470c-95de-462ec3f5740e",
   "metadata": {},
   "outputs": [],
   "source": [
    "model.meta.exposure.exposure_time"
   ]
  },
  {
   "cell_type": "code",
   "execution_count": null,
   "id": "f712e7cf-23ee-4454-9fb0-d2903847c930",
   "metadata": {},
   "outputs": [],
   "source": [
    "model.save(\"new_file.asdf\")"
   ]
  },
  {
   "cell_type": "markdown",
   "id": "b7017442-f3ad-472a-809d-9b5d40da2540",
   "metadata": {},
   "source": [
    "Exercises\n",
    "---------\n",
    "\n",
    "1. Use `search` to find what detector was used for this simulated image.\n",
    "2. Where is the \"detector\" key located within the ASDF tree?\n",
    "3. Access the \"detector\" key using the `AsdfFile` interface (opening the file with `asdf.open`).\n",
    "4. Access the \"detector\" attribute using the `DataModel` interface (opening the file with `roman_datamodels.open`)."
   ]
  }
 ],
 "metadata": {
  "kernelspec": {
   "display_name": "Python 3 (ipykernel)",
   "language": "python",
   "name": "python3"
  },
  "language_info": {
   "codemirror_mode": {
    "name": "ipython",
    "version": 3
   },
   "file_extension": ".py",
   "mimetype": "text/x-python",
   "name": "python",
   "nbconvert_exporter": "python",
   "pygments_lexer": "ipython3",
   "version": "3.12.4"
  }
 },
 "nbformat": 4,
 "nbformat_minor": 5
}
