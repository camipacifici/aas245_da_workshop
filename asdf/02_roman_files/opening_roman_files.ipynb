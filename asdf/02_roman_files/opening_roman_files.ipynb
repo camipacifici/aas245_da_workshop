{
 "cells": [
  {
   "cell_type": "markdown",
   "id": "e92fc203-b2b0-4297-bba8-7a07b0921999",
   "metadata": {},
   "source": [
    "## Goals\n",
    "\n",
    "- Open a roman science file with the python asdf library\n",
    "- Use tools for looking at the file and searching for attributes\n",
    "- Display an image contained in the file\n",
    "- Access and modify metadata\n",
    "- Write the file to disk\n",
    "\n",
    "The file roman.asdf is presumed to be in the tutorial's data/ directory. This is simulated data from the [OpenUniverse2024 project](https://irsa.ipac.caltech.edu/data/theory/openuniverse2024/overview.html) packaged as a level 2 calibrated data model"
   ]
  },
  {
   "cell_type": "code",
   "execution_count": null,
   "id": "1c291d48-ea19-4d6e-b7f9-abe3414ce38f",
   "metadata": {},
   "outputs": [],
   "source": [
    "import numpy as np\n",
    "import asdf\n",
    "\n",
    "from matplotlib import pyplot as plt\n",
    "%matplotlib widget"
   ]
  },
  {
   "cell_type": "markdown",
   "id": "1dc8b2f8-4f2a-4493-9103-e067be154ca8",
   "metadata": {},
   "source": [
    "Load ASDF file\n",
    "--------------"
   ]
  },
  {
   "cell_type": "code",
   "execution_count": null,
   "id": "28195548-15e7-4c7e-a1fc-92f3d7dea9f3",
   "metadata": {},
   "outputs": [],
   "source": [
    "af = asdf.open('../data/roman.asdf')"
   ]
  },
  {
   "cell_type": "markdown",
   "id": "1f496674-34b5-4166-b984-8c41621c253b",
   "metadata": {},
   "source": [
    "The file can be rendered using the **info** method"
   ]
  },
  {
   "cell_type": "code",
   "execution_count": null,
   "id": "7758e7ce-8310-405b-a12c-09ee1bd2c153",
   "metadata": {},
   "outputs": [],
   "source": [
    "af.info()"
   ]
  },
  {
   "cell_type": "code",
   "execution_count": null,
   "id": "864ecb72-d7c5-408b-98f5-e9a2fdd6368e",
   "metadata": {},
   "outputs": [],
   "source": [
    "# The file has lots of content so some options are needed to see it all\n",
    "\n",
    "af.info(max_rows=200)"
   ]
  },
  {
   "cell_type": "markdown",
   "id": "18b761d2-80df-4695-aa95-71dcb5d1a4c2",
   "metadata": {},
   "source": [
    "**info** is also a utility function. If called like that it can render specific nodes in the tree.\n",
    "\n",
    "And there's a command line utility **asdftool info** which allows looking at files outside a Python session."
   ]
  },
  {
   "cell_type": "code",
   "execution_count": null,
   "id": "abf4d2bd-33be-44cf-93d0-590be47df3a1",
   "metadata": {},
   "outputs": [],
   "source": [
    "asdf.info(af['roman']['meta']['instrument'])"
   ]
  },
  {
   "cell_type": "markdown",
   "id": "4ab58edc-3331-47f1-a911-58156cf109f7",
   "metadata": {},
   "source": [
    "Another useful utility is **search** - search by key, value or type."
   ]
  },
  {
   "cell_type": "code",
   "execution_count": null,
   "id": "de512d4e-4ba9-454b-99f9-1d282eb33284",
   "metadata": {},
   "outputs": [],
   "source": [
    "# Search for attributes with exposure in their name\n",
    "af.search('exposure')"
   ]
  },
  {
   "cell_type": "markdown",
   "id": "bab77f8f-29d8-40a0-82f8-7b25ae9b872d",
   "metadata": {},
   "source": [
    "##### Accessing attributes \n",
    "\n",
    "Attributes are accessed using a dict-like syntax."
   ]
  },
  {
   "cell_type": "code",
   "execution_count": null,
   "id": "b9e6e190-6d53-4abc-9be0-4cd938b368e9",
   "metadata": {},
   "outputs": [],
   "source": [
    "# Accessing attributes: assign an attribute value to a variable\n",
    "exposure_time = af.tree['roman']['meta']['exposure']['exposure_time']\n",
    "print(exposure_time)"
   ]
  },
  {
   "cell_type": "code",
   "execution_count": null,
   "id": "045f30d7-33d8-4976-a190-fbbdaf6f336b",
   "metadata": {},
   "outputs": [],
   "source": [
    "# Now load image and display it\n",
    "im = af.tree['roman']['data']"
   ]
  },
  {
   "cell_type": "code",
   "execution_count": null,
   "id": "42bb0e28-8b41-4071-9b35-fce1967017ce",
   "metadata": {},
   "outputs": [],
   "source": [
    "# Obviously we need to adjust the stretch on this. I've already found a reasonable one.\n",
    "fig, ax = plt.subplots()\n",
    "ax.imshow(im, vmin=18, vmax=200, origin='lower')"
   ]
  },
  {
   "cell_type": "code",
   "execution_count": null,
   "id": "16f10513-96a8-4c0e-9440-8397c6e0cf0e",
   "metadata": {},
   "outputs": [],
   "source": [
    "# To use a log transfer function means getting rid of all NaNs\n",
    "nim = np.array(im) # Existing image is only read only and not a numpy array\n",
    "nim[np.isnan(nim)] = np.nanmax(nim)\n",
    "nim -= nim.min() - 1\n",
    "fig1, ax1 = plt.subplots()\n",
    "ax1.imshow(np.log(nim), origin='lower')"
   ]
  },
  {
   "cell_type": "markdown",
   "id": "6a31609c-0fb7-494f-a325-f967bc1e8b69",
   "metadata": {},
   "source": [
    "Modifying the contents\n",
    "----------------------"
   ]
  },
  {
   "cell_type": "code",
   "execution_count": null,
   "id": "2d65930d-041b-40a3-bb6e-f9fcea1e2114",
   "metadata": {},
   "outputs": [],
   "source": [
    "# Arbitrarily change the exposure_time\n",
    "af.tree['roman']['meta']['exposure']['exposure_time'] = 1800\n",
    "print(af.tree['roman']['meta']['exposure']['exposure_time'])"
   ]
  },
  {
   "cell_type": "code",
   "execution_count": null,
   "id": "d32ccdc9-2a85-41a4-a583-af7b26bb0deb",
   "metadata": {},
   "outputs": [],
   "source": [
    "# Replace data attribute with the log version of the image.\n",
    "af.tree['data'] = np.log(nim)"
   ]
  },
  {
   "cell_type": "code",
   "execution_count": null,
   "id": "d8183126-0767-490b-9ecd-2720f4bb62fc",
   "metadata": {},
   "outputs": [],
   "source": [
    "# Create new meta attribute\n",
    "af.tree['inspected_by'] = 'Jacques Clouseau'"
   ]
  },
  {
   "cell_type": "markdown",
   "id": "35d81717-e156-4209-af0e-d16e199d9740",
   "metadata": {},
   "source": [
    "Saving the modified contents\n",
    "----------------------------"
   ]
  },
  {
   "cell_type": "code",
   "execution_count": null,
   "id": "203dd2de-d319-4e68-82c3-0fa612f58a42",
   "metadata": {},
   "outputs": [],
   "source": [
    "# Save to a different file\n",
    "af.write_to('roman_modified.asdf')"
   ]
  },
  {
   "cell_type": "code",
   "execution_count": null,
   "id": "fe917ed3-a3e5-48c5-abb3-3a3b3332f23a",
   "metadata": {},
   "outputs": [],
   "source": [
    "ls"
   ]
  },
  {
   "cell_type": "markdown",
   "id": "d9701b84-3515-4da4-8218-611a3c2715db",
   "metadata": {},
   "source": [
    "## Roman datamodels\n",
    "Roman ASDF files can also be opened with roman_datamodels which provides a slightly different API (and is used by the romancal calibration pipeline)."
   ]
  },
  {
   "cell_type": "code",
   "execution_count": null,
   "id": "bd23de81-5dc2-46af-b318-d7d49ec27998",
   "metadata": {},
   "outputs": [],
   "source": [
    "import roman_datamodels\n",
    "model = roman_datamodels.open(\"../data/roman.asdf\")\n",
    "print(model)"
   ]
  },
  {
   "cell_type": "markdown",
   "id": "744f7f82-c79e-441d-a45d-0f52ca8c002d",
   "metadata": {},
   "source": [
    "The major differences with the datamodel and \"vanilla\" asdf API are:\n",
    "- nesting uses attribute instead of dictionary access\n",
    "- there is no top level \"roman\" key/attribute\n",
    "- saving uses \"save\" instead of \"writeto\""
   ]
  },
  {
   "cell_type": "code",
   "execution_count": null,
   "id": "a809ea47-02eb-470c-95de-462ec3f5740e",
   "metadata": {},
   "outputs": [],
   "source": [
    "model.meta.exposure.exposure_time"
   ]
  },
  {
   "cell_type": "code",
   "execution_count": null,
   "id": "f712e7cf-23ee-4454-9fb0-d2903847c930",
   "metadata": {},
   "outputs": [],
   "source": [
    "model.save(\"new_file.asdf\")"
   ]
  },
  {
   "cell_type": "markdown",
   "id": "b7017442-f3ad-472a-809d-9b5d40da2540",
   "metadata": {},
   "source": [
    "Exercises\n",
    "---------\n",
    "\n",
    "1. Search for the name of the PI (\"Klaus\") and replace the attribute containing\n",
    "   it with your own name. Type \"af.search?\" to show how to search values instead of attribute names.\n",
    "3. Use the above log image and set all pixels in rows 3000:3010 and columns 4000:4010\n",
    "   to a value of 2.5, and replace the data attribute with the modified log image.\n",
    "5. Save the result to a new file named \"roman_exercise.asdf\"\n",
    "6. Load that new file and display the data image\n",
    "7. Print out the value of the attribute that contains the name of the PI\n",
    "   to confirm the edits were saved"
   ]
  },
  {
   "cell_type": "code",
   "execution_count": null,
   "id": "41e761c3-13b1-452a-9e3a-484cd0fa2e96",
   "metadata": {},
   "outputs": [],
   "source": []
  }
 ],
 "metadata": {
  "kernelspec": {
   "display_name": "Python 3 (ipykernel)",
   "language": "python",
   "name": "python3"
  },
  "language_info": {
   "codemirror_mode": {
    "name": "ipython",
    "version": 3
   },
   "file_extension": ".py",
   "mimetype": "text/x-python",
   "name": "python",
   "nbconvert_exporter": "python",
   "pygments_lexer": "ipython3",
   "version": "3.12.4"
  }
 },
 "nbformat": 4,
 "nbformat_minor": 5
}
