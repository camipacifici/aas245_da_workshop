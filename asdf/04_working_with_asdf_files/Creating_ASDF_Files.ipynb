{
 "cells": [
  {
   "cell_type": "markdown",
   "id": "380f99bb-e08f-4923-ba64-bcb00e22f75a",
   "metadata": {},
   "source": [
    "Creating ASDF Files\n",
    "===\n",
    "\n",
    "This tutorial will provide an overview of creating ASDF files using the python library [asdf](https://pypi.org/project/asdf/)."
   ]
  },
  {
   "cell_type": "code",
   "execution_count": null,
   "id": "808e4fb4-c962-43f5-833b-69e9fb837e13",
   "metadata": {},
   "outputs": [],
   "source": [
    "import os\n",
    "import numpy as np\n",
    "import asdf\n",
    "\n",
    "np.random.seed(42)\n",
    "\n",
    "def print_file(fn):\n",
    "    \"\"\"\n",
    "    A helper function to print out an ASDF file\n",
    "    \"\"\"\n",
    "    with open(fn, \"r\", encoding=\"unicode_escape\") as f:\n",
    "        print(f.read())"
   ]
  },
  {
   "cell_type": "markdown",
   "id": "5cdae9ca-10a8-4019-898b-568c661961df",
   "metadata": {},
   "source": [
    "# Introduction\n",
    "\n",
    "Creating an ASDF file starts with creating an instance of the [AsdfFile](https://asdf.readthedocs.io/en/latest/api/asdf.AsdfFile.html#asdf.AsdfFile) class."
   ]
  },
  {
   "cell_type": "code",
   "execution_count": null,
   "id": "ae95c9e1-612e-4105-b842-1daf7cf92e75",
   "metadata": {},
   "outputs": [],
   "source": [
    "af = asdf.AsdfFile()"
   ]
  },
  {
   "cell_type": "markdown",
   "id": "6d0a5d95-c2eb-4d7d-90a7-881e13e9b793",
   "metadata": {},
   "source": [
    "# 🌲 The \"tree\"\n",
    "Data within an ASDF file is organized in a \"tree\" structure, an arbitrarily nested mapping of key/value pairs (think of this as a Python dict). This allows data to be hierarchically organized within the file.\n",
    "\n",
    "For example if you have some \"data\" values and some \"meta\" describing the condition of the data this can be organized within the tree under \"data\" and \"meta\" keys."
   ]
  },
  {
   "cell_type": "code",
   "execution_count": null,
   "id": "66978948-8fbe-4a7f-b250-964e97bf05d5",
   "metadata": {},
   "outputs": [],
   "source": [
    "af.tree[\"meta\"] = {\"my\": {\"nested\": \"metadata\"}}\n",
    "af.tree[\"data\"] = [1, 2, 3, 4]\n",
    "print(af.tree)"
   ]
  },
  {
   "cell_type": "markdown",
   "id": "a8c4ff0a-9add-4829-b56d-fd6e634b5de8",
   "metadata": {},
   "source": [
    "For ease-of-use the [AsdfFile](https://asdf.readthedocs.io/en/latest/api/asdf.AsdfFile.html#asdf.AsdfFile) instance can be used like a dictionary (removing the need to always access the `tree` attribute)."
   ]
  },
  {
   "cell_type": "code",
   "execution_count": null,
   "id": "d44f4015-999d-47f2-9f78-24f0f3da2f61",
   "metadata": {},
   "outputs": [],
   "source": [
    "af[\"meta\"]"
   ]
  },
  {
   "cell_type": "markdown",
   "id": "18db8644-6ae6-40e9-af14-bdfe9c187c6c",
   "metadata": {},
   "source": [
    "# 🍁 Tree contents\n",
    "\n",
    "Many of the Python builtin types are supported by ASDF and largely match the basic types in [YAML](https://yaml.org/spec/1.1/).\n",
    "| Python type | YAML type |\n",
    "| --- | --- |\n",
    "| `dict` | `mapping` |\n",
    "| `list` | `sequence` |\n",
    "| `str` | `string` |\n",
    "| `float` | `float` |\n",
    "| `int` | `int` |\n",
    "| `None` | `null` |"
   ]
  },
  {
   "cell_type": "markdown",
   "id": "92ee3e7e-3262-4537-bbc3-49c201f1488e",
   "metadata": {},
   "source": [
    "# Exercise 1: Make an ASDF tree\n",
    "Create an [AsdfFile](https://asdf.readthedocs.io/en/latest/api/asdf.AsdfFile.html#asdf.AsdfFile) instance and build a tree containing all of the above supported types."
   ]
  },
  {
   "cell_type": "markdown",
   "id": "dfd69305-e5a1-463b-b4e0-279fb514d7e0",
   "metadata": {},
   "source": [
    "# 💾 Saving to disk\n",
    "[AsdfFile.write_to](https://asdf.readthedocs.io/en/latest/api/asdf.AsdfFile.html#asdf.AsdfFile.write_to) is the main method used to save ASDF files to disk."
   ]
  },
  {
   "cell_type": "code",
   "execution_count": null,
   "id": "8d12c112-080f-4b03-abf1-cdcab50400f0",
   "metadata": {},
   "outputs": [],
   "source": [
    "af.write_to(\"my_tree.asdf\")\n",
    "os.path.exists(\"my_tree.asdf\")"
   ]
  },
  {
   "cell_type": "markdown",
   "id": "b5d3fc53-0a97-4dc0-8042-1c5395ed5531",
   "metadata": {},
   "source": [
    "As ASDF files contain a plain-text header, simple trees can result in files that are human-readable."
   ]
  },
  {
   "cell_type": "code",
   "execution_count": null,
   "id": "54ea2530-e66f-40fe-92b8-3a037fb37b68",
   "metadata": {},
   "outputs": [],
   "source": [
    "af = asdf.AsdfFile()\n",
    "af[\"trunk\"] = {\"branches\": [0, 1, 2], \"roots\": [\"a\", \"b\", \"c\"]}\n",
    "af.write_to(\"trunk.asdf\")\n",
    "print_file(\"trunk.asdf\")  # print out contents of file"
   ]
  },
  {
   "cell_type": "markdown",
   "id": "5778bb8a-eb6b-4dd3-a75f-30b99de2e7b6",
   "metadata": {},
   "source": [
    "# Exercise 2: Save your tree\n",
    "Recreate (if necessary) your custom tree containing all of the supported types and write it to an ASDF file. Open the file in a text editor and view the contents."
   ]
  },
  {
   "cell_type": "markdown",
   "id": "edacd461-7f41-44a1-b00f-fe19f769ec1f",
   "metadata": {},
   "source": [
    "# 📋 Standard metadata\n",
    "In the above example we didn't add the `asdf_library` and `history` keys that appear in the file. These are standard metadata keys added to every ASDF file. They record:\n",
    "\n",
    "- `asdf_library`: Software library used to produce the file\n",
    "- `history`: ASDF extensions used to produce the file (and optional user-added history entries)\n",
    "\n",
    "We won't cover these in more depth. Please see the documentation for more details:\n",
    "- [AsdfFile.add_history_entry](https://asdf.readthedocs.io/en/latest/api/asdf.AsdfFile.html#asdf.AsdfFile.add_history_entry)\n",
    "- [asdf-1.0.0 schema](https://asdf-standard.readthedocs.io/en/1.1.1/generated/stsci.edu/asdf/core/asdf-1.0.0.html)"
   ]
  },
  {
   "cell_type": "markdown",
   "id": "2a9a5340-38e4-456b-a3c6-efc2ab90522b",
   "metadata": {},
   "source": [
    "# 🪄 \"Tagged\" Types\n",
    "For more complicated types, ASDF supports \"tagged\" objects (as does YAML). \n",
    "\n",
    "(YAML Tags are simple identifiers used to represent information about the type of native data structures.)\n",
    "\n",
    "By adding a \"tag\" to an object and saving this to the file the asdf software knows this \"tagged\" object can be deserialized to a more complicated type. To cover this topic we'll use `complex` numbers."
   ]
  },
  {
   "cell_type": "code",
   "execution_count": null,
   "id": "f5c64242-f35e-4d4c-be28-d0fc88890651",
   "metadata": {},
   "outputs": [],
   "source": [
    "af = asdf.AsdfFile()\n",
    "af[\"z\"] = 1 + 1j\n",
    "af.write_to(\"complex.asdf\")\n",
    "print_file(\"complex.asdf\")"
   ]
  },
  {
   "cell_type": "markdown",
   "id": "d1a359cd-b704-4d99-b2d6-8de1ce75cad8",
   "metadata": {},
   "source": [
    "asdf stored our `complex` number `z` as a \"tagged\" string \"(1+1j)\" in the file using the `core/complex-1.0.0` tag. When we open this file asdf will see the tag recreate the `complex` number for us from the string."
   ]
  },
  {
   "cell_type": "code",
   "execution_count": null,
   "id": "eea0d00e-e470-42a2-9e3c-74d308a67265",
   "metadata": {},
   "outputs": [],
   "source": [
    "af = asdf.open(\"complex.asdf\")\n",
    "type(af[\"z\"])"
   ]
  },
  {
   "cell_type": "markdown",
   "id": "f7a1285b-a92c-460b-95e2-545f9d081b6d",
   "metadata": {},
   "source": [
    "The mapping between tags and objects is handled by the asdf extension API. Support for new objects can be added by pip installing packages (like [asdf-astropy](https://pypi.org/project/asdf-astropy/)) or users can create and register their own extensions.\n",
    "\n",
    "We won't go into details about creating an extension here but please see the documentation if there are objects you would like to store in an ASDF file (that aren't already supported):\n",
    "https://asdf.readthedocs.io/en/latest/asdf/extending/extensions.html"
   ]
  },
  {
   "cell_type": "markdown",
   "id": "cd11e009-0afa-404e-ac97-4cb33b98736d",
   "metadata": {},
   "source": [
    "# Exercise 3: Tagged objects\n",
    "Open one of the ASDF files created above. What is the type of value stored with the \"asdf_library\" library in the tree?"
   ]
  },
  {
   "cell_type": "markdown",
   "id": "7f17f86f-513c-4c96-94cc-cb5eb595f77a",
   "metadata": {},
   "source": [
    "# 🔢 N-Dimensional arrays\n",
    "In addition to plain-text representations, ASDF files can contain binary data often used to store arrays of numerical data. It is efficient to read and write and doesn't suffer from loss of precision which might occur for numerical types converted to and from text.\n",
    "\n",
    "Binary data is stored in \"blocks\" written after the ASDF tree. Objects in the tree may contain references to binary \"blocks\", the most common being [NDArrayType](https://asdf.readthedocs.io/en/latest/api/asdf.tags.core.NDArrayType.html#asdf.tags.core.NDArrayType) the class asdf uses for `numpy.ndarray` instances."
   ]
  },
  {
   "cell_type": "code",
   "execution_count": null,
   "id": "53e6038a-2981-4a9f-bcaf-da88fdfa8326",
   "metadata": {},
   "outputs": [],
   "source": [
    "af = asdf.AsdfFile()\n",
    "af[\"data\"] = np.arange(10)\n",
    "af.write_to(\"binary_data.asdf\")\n",
    "print_file(\"binary_data.asdf\")"
   ]
  },
  {
   "cell_type": "markdown",
   "id": "a94f4e70-e199-478e-ad9d-894b7177578c",
   "metadata": {},
   "source": [
    "When we read this file back in we'll find a [NDArrayType](https://asdf.readthedocs.io/en/latest/api/asdf.tags.core.NDArrayType.html#asdf.tags.core.NDArrayType) instance for `data`."
   ]
  },
  {
   "cell_type": "code",
   "execution_count": null,
   "id": "96a2fd54-2a4d-485e-95a7-9afaf56b8d19",
   "metadata": {},
   "outputs": [],
   "source": [
    "af = asdf.open(\"binary_data.asdf\")\n",
    "type(af[\"data\"])"
   ]
  },
  {
   "cell_type": "markdown",
   "id": "b4d2414e-5b73-4f1d-9964-6d4a46882b5e",
   "metadata": {},
   "source": [
    "This can mostly be treated the same as a `numpy.ndarray` but provides a few asdf-specific features. By default the array is \"lazy loaded\". This means [NDArrayType](https://asdf.readthedocs.io/en/latest/api/asdf.tags.core.NDArrayType.html#asdf.tags.core.NDArrayType) will only load the binary data from disk when the array contents are accessed (to reduce disk IO and improve performance)."
   ]
  },
  {
   "cell_type": "code",
   "execution_count": null,
   "id": "eff490ff-c1ff-43ce-91be-8189ad59b4d7",
   "metadata": {},
   "outputs": [],
   "source": [
    "print(af[\"data\"])"
   ]
  },
  {
   "cell_type": "markdown",
   "id": "f1fc567b-b98b-412d-90f0-6595d932b3a3",
   "metadata": {},
   "source": [
    "# Exercise 4: Saving arrays\n",
    "Generate an ASDF file with:\n",
    "- an array (\"array\")\n",
    "- a second reference to the same array (\"array_reference\")\n",
    "- an additional different array (\"other_array\")\n",
    "\n",
    "Examine the file contents. Open the file and examine \"array\" and \"array_reference\". Do they still refer to the same object? (hint: YAML supports anchors and aliases to have multiple references to the same object)."
   ]
  },
  {
   "cell_type": "markdown",
   "id": "9e0a3b3e-c6fe-4ae8-a41f-0918ff3dc730",
   "metadata": {},
   "source": [
    "# 👀 Array views\n",
    "Array views will be stored in ASDF files as views of an ASDF block. For a file with multiple views of the same array this can save space on disk."
   ]
  },
  {
   "cell_type": "code",
   "execution_count": null,
   "id": "bfef441b-297e-487d-9a67-aa496d3d4fa6",
   "metadata": {},
   "outputs": [],
   "source": [
    "af = asdf.AsdfFile()\n",
    "af[\"base_array\"] = np.zeros((100, 100))\n",
    "af[\"view\"] = af[\"base_array\"][0]\n",
    "af.write_to(\"shared_array.asdf\")\n",
    "print_file(\"shared_array.asdf\")"
   ]
  },
  {
   "cell_type": "markdown",
   "id": "6566cb1e-5638-4ca9-8cbb-d3dda33178f6",
   "metadata": {},
   "source": [
    "# Exercise 5: Saving views\n",
    "Save an ASDF file with a large array and a small view of the array. Open this file and change the view contents. This will require disabling memory mapping by passing `memmap=False` to [asdf.open](https://asdf.readthedocs.io/en/latest/api/asdf.open.html#asdf.open). What happens to the large array?"
   ]
  },
  {
   "cell_type": "markdown",
   "id": "b28d58dc-7fe7-4090-afc2-a8402db13d85",
   "metadata": {},
   "source": [
    "# 🗄 Storage options\n",
    "For small arrays it is sometimes helpful to \"inline\" the array data. An \"inline\" array is stored as human-readable text in the YAML header instead of an ASDF block. This is controlled by calling [AsdfFile.set_array_storage](https://asdf.readthedocs.io/en/latest/api/asdf.AsdfFile.html#asdf.AsdfFile.set_array_storage)."
   ]
  },
  {
   "cell_type": "code",
   "execution_count": null,
   "id": "0c3e2470-2e7e-41d3-a770-6d33ff8e52f9",
   "metadata": {},
   "outputs": [],
   "source": [
    "af = asdf.AsdfFile()\n",
    "af[\"small_array\"] = np.arange(5)\n",
    "af.set_array_storage(af[\"small_array\"], \"inline\")\n",
    "af.write_to(\"inline_array.asdf\")\n",
    "print_file(\"inline_array.asdf\")"
   ]
  },
  {
   "cell_type": "markdown",
   "id": "5b76d8a3-8ff6-49b8-8441-1afc42863e25",
   "metadata": {},
   "source": [
    "For large arrays it may be preferable to compress the ASDF block. Every installation of asdf supports  [bzp2](http://www.bzip.org/) and [zlib](http://www.zlib.net/) compression algorithsm (more can be added via extensions). To tell asdf to compress an array provide a supported 4 character code to [AsdfFile.set_array_compression](https://asdf.readthedocs.io/en/latest/api/asdf.AsdfFile.html#asdf.AsdfFile.set_array_compression)."
   ]
  },
  {
   "cell_type": "code",
   "execution_count": null,
   "id": "c6fbd913-7430-409c-b609-a4734d441a3e",
   "metadata": {},
   "outputs": [],
   "source": [
    "af = asdf.AsdfFile()\n",
    "af[\"compressed_array\"] = np.zeros((1000, 1000))\n",
    "af.set_array_compression(af[\"compressed_array\"], \"bzp2\")\n",
    "af.write_to(\"compressed.asdf\")\n",
    "print_file(\"compressed.asdf\")"
   ]
  },
  {
   "cell_type": "code",
   "execution_count": null,
   "id": "7ab48904-2ef7-476a-8963-88e0fe29cad6",
   "metadata": {},
   "outputs": [],
   "source": [
    "af['compressed_array']"
   ]
  },
  {
   "cell_type": "markdown",
   "id": "e90ff4c0-ac9e-47a6-9289-a75b74ee5184",
   "metadata": {},
   "source": [
    "# Exercise 6: Array storage options\n",
    "Generate an ASDF file with:\n",
    "- one array compressed with \"zlib\"\n",
    "- a second array that is uncompressed\n",
    "\n",
    "What happens if you read and then rewrite the file to a new filename? Is the \"zlib\" compressed array still compressed in the new file?"
   ]
  }
 ],
 "metadata": {
  "kernelspec": {
   "display_name": "Python 3 (ipykernel)",
   "language": "python",
   "name": "python3"
  },
  "language_info": {
   "codemirror_mode": {
    "name": "ipython",
    "version": 3
   },
   "file_extension": ".py",
   "mimetype": "text/x-python",
   "name": "python",
   "nbconvert_exporter": "python",
   "pygments_lexer": "ipython3",
   "version": "3.12.4"
  }
 },
 "nbformat": 4,
 "nbformat_minor": 5
}
