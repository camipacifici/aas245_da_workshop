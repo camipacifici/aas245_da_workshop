{
 "cells": [
  {
   "cell_type": "markdown",
   "id": "e92fc203-b2b0-4297-bba8-7a07b0921999",
   "metadata": {},
   "source": [
    "## Goals\n",
    "\n",
    "- Open a jwst file using the datamodel API\n",
    "- Save the file as asdf\n",
    "- Use tools for looking at the file and searching for attributes\n",
    "\n",
    "The file jwst.asdf is presumed to be in the tutorial's data/ directory. This is the combined resampled product of two JWST NIRCam observations."
   ]
  },
  {
   "cell_type": "code",
   "execution_count": null,
   "id": "1c291d48-ea19-4d6e-b7f9-abe3414ce38f",
   "metadata": {},
   "outputs": [],
   "source": [
    "import numpy as np\n",
    "import asdf\n",
    "\n",
    "from matplotlib import pyplot as plt\n",
    "%matplotlib widget"
   ]
  },
  {
   "cell_type": "markdown",
   "id": "1dc8b2f8-4f2a-4493-9103-e067be154ca8",
   "metadata": {},
   "source": [
    "JWST Data Models\n",
    "----------------"
   ]
  },
  {
   "cell_type": "code",
   "execution_count": null,
   "id": "28195548-15e7-4c7e-a1fc-92f3d7dea9f3",
   "metadata": {},
   "outputs": [],
   "source": [
    "import stdatamodels.jwst.datamodels as dm\n",
    "model = dm.open(\"../data/jwst.fits\")\n",
    "model.meta.instrument.name"
   ]
  },
  {
   "cell_type": "code",
   "execution_count": null,
   "id": "06a854a9-7a2b-40a4-8e10-d6a0465859ea",
   "metadata": {},
   "outputs": [],
   "source": [
    "model.save(\"jwst.asdf\")"
   ]
  },
  {
   "cell_type": "code",
   "execution_count": null,
   "id": "edd499e2-3647-4d52-ae48-53545253b443",
   "metadata": {},
   "outputs": [],
   "source": [
    "import asdf\n",
    "af = asdf.open(\"jwst.asdf\")"
   ]
  },
  {
   "cell_type": "markdown",
   "id": "1f496674-34b5-4166-b984-8c41621c253b",
   "metadata": {},
   "source": [
    "The file can be rendered using the **info** method"
   ]
  },
  {
   "cell_type": "code",
   "execution_count": null,
   "id": "7758e7ce-8310-405b-a12c-09ee1bd2c153",
   "metadata": {},
   "outputs": [],
   "source": [
    "af.info()"
   ]
  },
  {
   "cell_type": "markdown",
   "id": "4ab58edc-3331-47f1-a911-58156cf109f7",
   "metadata": {},
   "source": [
    "Another useful utility is **search** - search by key, value or type."
   ]
  },
  {
   "cell_type": "code",
   "execution_count": null,
   "id": "de512d4e-4ba9-454b-99f9-1d282eb33284",
   "metadata": {},
   "outputs": [],
   "source": [
    "# Search for attributes with exposure in their name\n",
    "af.search('exposure')"
   ]
  },
  {
   "cell_type": "code",
   "execution_count": null,
   "id": "d8183126-0767-490b-9ecd-2720f4bb62fc",
   "metadata": {},
   "outputs": [],
   "source": [
    "# Create new meta attribute\n",
    "af.tree['meta']['inspected_by'] = 'Jacques Clouseau'"
   ]
  },
  {
   "cell_type": "markdown",
   "id": "b7017442-f3ad-472a-809d-9b5d40da2540",
   "metadata": {},
   "source": [
    "Exercises\n",
    "---------\n",
    "\n",
    "1. Search for the name of the PI (\"Klaus\") and replace the attribute containing\n",
    "   it with your own name. Type \"af.search?\" to show how to search values instead of attribute names.\n",
    "3. Use the above log image and set all pixels in rows 3000:3010 and columns 4000:4010\n",
    "   to a value of 2.5, and replace the data attribute with the modified log image.\n",
    "5. Save the result to a new file named \"jwst_exercise.asdf\"\n",
    "6. Load that new file and display the data image\n",
    "7. Print out the value of the attribute that contains the name of the PI\n",
    "   to confirm the edits were saved"
   ]
  },
  {
   "cell_type": "code",
   "execution_count": null,
   "id": "41e761c3-13b1-452a-9e3a-484cd0fa2e96",
   "metadata": {},
   "outputs": [],
   "source": []
  }
 ],
 "metadata": {
  "kernelspec": {
   "display_name": "Python 3 (ipykernel)",
   "language": "python",
   "name": "python3"
  },
  "language_info": {
   "codemirror_mode": {
    "name": "ipython",
    "version": 3
   },
   "file_extension": ".py",
   "mimetype": "text/x-python",
   "name": "python",
   "nbconvert_exporter": "python",
   "pygments_lexer": "ipython3",
   "version": "3.12.4"
  }
 },
 "nbformat": 4,
 "nbformat_minor": 5
}
