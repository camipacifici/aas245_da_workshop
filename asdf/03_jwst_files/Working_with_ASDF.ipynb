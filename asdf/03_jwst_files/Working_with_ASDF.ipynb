{
 "cells": [
  {
   "cell_type": "markdown",
   "id": "e92fc203-b2b0-4297-bba8-7a07b0921999",
   "metadata": {},
   "source": [
    "## Goals\n",
    "\n",
    "- Open a jwst file using the datamodel API\n",
    "- Save the file as asdf\n",
    "- Use tools for looking at the file and searching for attributes\n",
    "\n",
    "The file jwst.asdf is presumed to be in the tutorial's data/ directory. This is the combined resampled product of two JWST NIRCam observations."
   ]
  },
  {
   "cell_type": "code",
   "execution_count": null,
   "id": "1c291d48-ea19-4d6e-b7f9-abe3414ce38f",
   "metadata": {},
   "outputs": [],
   "source": [
    "import numpy as np\n",
    "import asdf\n",
    "\n",
    "from matplotlib import pyplot as plt\n",
    "%matplotlib widget"
   ]
  },
  {
   "cell_type": "markdown",
   "id": "1dc8b2f8-4f2a-4493-9103-e067be154ca8",
   "metadata": {},
   "source": [
    "JWST Data Models\n",
    "----------------\n",
    "\n",
    "JWST data files are typically stored in the FITS file format but internally have an embeded ASDF tree. The [jwst calibration pipeline](https://jwst-pipeline.readthedocs.io/en/latest/) uses a \"data model\" interface provided by the [stdatamodels](https://stdatamodels.readthedocs.io/en/latest/) package to read and write files. This interface can be used to convert JWST FITS files to pure ASDF which we'll use for this tutorial.\n",
    "\n",
    "Let's start by using stdatamodels to open a JWST FITS file."
   ]
  },
  {
   "cell_type": "code",
   "execution_count": null,
   "id": "28195548-15e7-4c7e-a1fc-92f3d7dea9f3",
   "metadata": {},
   "outputs": [],
   "source": [
    "import stdatamodels.jwst.datamodels as dm\n",
    "model = dm.open(\"../data/jwst.fits\")\n",
    "model"
   ]
  },
  {
   "cell_type": "markdown",
   "id": "5118ed62-160a-46e8-8adf-7dea966a5c72",
   "metadata": {},
   "source": [
    "Model data and metadata can be accessed as attributes (which may be nested)."
   ]
  },
  {
   "cell_type": "code",
   "execution_count": null,
   "id": "9a196853-1635-480a-bf78-14affaf2d7d6",
   "metadata": {},
   "outputs": [],
   "source": [
    "# to get the instrument name, access the meta attribute, then instrument sub-attribute, then finally the name\n",
    "model.meta.instrument.name"
   ]
  },
  {
   "cell_type": "markdown",
   "id": "f1063420-a4c0-4d6c-9513-796f3bfe4c70",
   "metadata": {},
   "source": [
    "For this tutorial we'll save this data model as a pure asdf file using `save`."
   ]
  },
  {
   "cell_type": "code",
   "execution_count": null,
   "id": "06a854a9-7a2b-40a4-8e10-d6a0465859ea",
   "metadata": {},
   "outputs": [],
   "source": [
    "model.save(\"jwst.asdf\")"
   ]
  },
  {
   "cell_type": "markdown",
   "id": "e479d0c3-746f-4429-92b5-73f87ee9c221",
   "metadata": {},
   "source": [
    "Now we can open the file with `asdf.open`."
   ]
  },
  {
   "cell_type": "code",
   "execution_count": null,
   "id": "edd499e2-3647-4d52-ae48-53545253b443",
   "metadata": {},
   "outputs": [],
   "source": [
    "import asdf\n",
    "af = asdf.open(\"jwst.asdf\")"
   ]
  },
  {
   "cell_type": "markdown",
   "id": "1f496674-34b5-4166-b984-8c41621c253b",
   "metadata": {},
   "source": [
    "The file contents can be rendered using the **info** method"
   ]
  },
  {
   "cell_type": "code",
   "execution_count": null,
   "id": "7758e7ce-8310-405b-a12c-09ee1bd2c153",
   "metadata": {},
   "outputs": [],
   "source": [
    "af.info()"
   ]
  },
  {
   "cell_type": "markdown",
   "id": "4ab58edc-3331-47f1-a911-58156cf109f7",
   "metadata": {},
   "source": [
    "As the metadata can be richly nested it's often helpful to use `search` to look for keys matching the provided pattern."
   ]
  },
  {
   "cell_type": "code",
   "execution_count": null,
   "id": "de512d4e-4ba9-454b-99f9-1d282eb33284",
   "metadata": {},
   "outputs": [],
   "source": [
    "# Search for attributes with exposure in their name\n",
    "af.search('exposure')"
   ]
  },
  {
   "cell_type": "markdown",
   "id": "55d25f01-14e4-4c43-ac21-096ab9af6ff4",
   "metadata": {},
   "source": [
    "## Image data\n",
    "This file contains a resampled image stored under the \"data\" key which we can display in this notebook."
   ]
  },
  {
   "cell_type": "code",
   "execution_count": null,
   "id": "7d6771dd-7c8f-4450-beb6-ebd971d98b1e",
   "metadata": {},
   "outputs": [],
   "source": [
    "# Access the \"data\" under the \"roman\" sub-tree\n",
    "im = af['data']\n",
    "# Plot the data (with restricted values selected for this file)\n",
    "fig, ax = plt.subplots()\n",
    "ax.imshow(im, vmin=0, vmax=5, origin='lower')"
   ]
  },
  {
   "cell_type": "markdown",
   "id": "13f9c203-aa54-43ce-aedd-c1e8617fc680",
   "metadata": {},
   "source": [
    "## Array data\n",
    "Arrays loaded from the file can be used in the same way as `numpy.ndarray`s. Let's take the log of the \"data\" array."
   ]
  },
  {
   "cell_type": "code",
   "execution_count": null,
   "id": "50f645f3-2a5b-4bb9-b139-3b0cbf50a0ad",
   "metadata": {},
   "outputs": [],
   "source": [
    "# let's take a log of the image\n",
    "log_image = af['data'].copy()\n",
    "# filling all nan values\n",
    "log_image[np.isnan(log_image)] = 5\n",
    "# and clipping values <=0 to avoid issues with the log\n",
    "log_image[log_image <= 0] = 1\n",
    "log_image = np.log(log_image)\n",
    "# and display the result\n",
    "fig, ax = plt.subplots()\n",
    "ax.imshow(im, vmin=0, vmax=2.5, origin='lower')"
   ]
  },
  {
   "cell_type": "markdown",
   "id": "f3404f47-40db-4b9d-a222-9410177f8315",
   "metadata": {},
   "source": [
    "## Adding metadata\n",
    "New values can be added to the ASDF tree using the dictionary interface."
   ]
  },
  {
   "cell_type": "code",
   "execution_count": null,
   "id": "d8183126-0767-490b-9ecd-2720f4bb62fc",
   "metadata": {},
   "outputs": [],
   "source": [
    "# Create new meta attribute\n",
    "af['meta']['inspected_by'] = 'Jacques Clouseau'"
   ]
  },
  {
   "cell_type": "markdown",
   "id": "b7017442-f3ad-472a-809d-9b5d40da2540",
   "metadata": {},
   "source": [
    "Exercises\n",
    "---------\n",
    "\n",
    "1. Use `search` to find what \"filter\" was used to acquire this data.\n",
    "2. Search for the name of the PI (\"Klaus\") and replace the attribute containing\n",
    "   it with your own name. Type \"af.search?\" to show how to search values instead of attribute names.\n",
    "3. Assign the `log_image` computed above to the \"data\" array.\n",
    "5. Save the result to a new file named \"jwst_exercise.asdf\"\n",
    "6. Load that new file and display the data image (verifying that the `log_image` was saved)\n",
    "7. Print out the value of the attribute that contains the name of the PI\n",
    "   to confirm the edits were saved"
   ]
  }
 ],
 "metadata": {
  "kernelspec": {
   "display_name": "Python 3 (ipykernel)",
   "language": "python",
   "name": "python3"
  },
  "language_info": {
   "codemirror_mode": {
    "name": "ipython",
    "version": 3
   },
   "file_extension": ".py",
   "mimetype": "text/x-python",
   "name": "python",
   "nbconvert_exporter": "python",
   "pygments_lexer": "ipython3",
   "version": "3.12.4"
  }
 },
 "nbformat": 4,
 "nbformat_minor": 5
}
