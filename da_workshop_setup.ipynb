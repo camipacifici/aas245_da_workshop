{
 "cells": [
  {
   "cell_type": "markdown",
   "id": "8f646345-6b86-45d9-b06d-f7949854229b",
   "metadata": {},
   "source": [
    "# Set up for Data Analysis workshop"
   ]
  },
  {
   "cell_type": "markdown",
   "id": "4ca5e9da-b271-4623-96c2-873cc02607ec",
   "metadata": {},
   "source": [
    "## Installation\n",
    "\n",
    "These instructions assume that `conda` is already installed. If it is not, we recommend using `miniconda` following the [instructions on the webpage](https://conda.io/projects/conda/en/latest/user-guide/install/index.html). *Please be sure to install a 64-bit version of Miniconda to ensure that all packages work correctly.*\n",
    "\n",
    "```\n",
    "conda create -n da-workshop python=3.12 -y\n",
    "conda activate da-workshop\n",
    "pip install jdaviz lz4 roman_datamodels==0.22.0\n",
    "```"
   ]
  },
  {
   "cell_type": "markdown",
   "id": "8c36e589-97d4-49a6-b4c4-037c401877bc",
   "metadata": {},
   "source": [
    "### Test installation"
   ]
  },
  {
   "cell_type": "code",
   "execution_count": null,
   "id": "61fe5c29-4bcc-46b4-8fa1-0dd355fd5350",
   "metadata": {},
   "outputs": [],
   "source": [
    "import jdaviz\n",
    "print('jdaviz: ',jdaviz.__version__) # this should be 4.1.0\n",
    "import roman_datamodels\n",
    "print('roman_datamodels: ', roman_datamodels.__version__) # this should be 0.22.0\n",
    "import photutils\n",
    "print('photutils: ', photutils.__version__) # this should be 2.1.0"
   ]
  },
  {
   "cell_type": "markdown",
   "id": "a3180a13-d056-4fe1-bd17-eb043fd3c2fb",
   "metadata": {},
   "source": [
    "## Get the material\n",
    "\n",
    "Clone the repository\n",
    "```\n",
    "git clone https://github.com/spacetelescope/aas245_da_workshop.git\n",
    "```\n",
    "Or go to https://github.com/spacetelescope/aas245_da_workshop and download the notebooks in the folder `jdaviz`, `asdf`, `gwcs`, and `photutils`.\n",
    "*Cloning is faster ;)*"
   ]
  },
  {
   "cell_type": "markdown",
   "id": "f8ddc2d0-e981-4cf6-b421-f4bcfd7ed760",
   "metadata": {},
   "source": [
    "## Get the data"
   ]
  },
  {
   "cell_type": "code",
   "execution_count": null,
   "id": "fc17fffa-734c-4f4d-8f5a-f6ef052a5d01",
   "metadata": {},
   "outputs": [],
   "source": [
    "from astroquery.mast import Observations"
   ]
  },
  {
   "cell_type": "code",
   "execution_count": null,
   "id": "f646992f-af4c-40cc-bda7-83dc0687f6e5",
   "metadata": {},
   "outputs": [],
   "source": [
    "list_uri = ['mast:JWST/product/jw01227-c1002_t005_nircam_clear-f335m_i2d.fits',\n",
    "            'mast:JWST/product/jw01227-c1002_t005_nircam_clear-f277w_i2d.fits',\n",
    "            'mast:JWST/product/jw01227-c1002_t005_nircam_clear-f444w_i2d.fits',\n",
    "            'mast:JWST/product/jw01328-o018_t010_nirspec_g235h-f170lp_s3d.fits',\n",
    "            'mast:HLSP/jades/dr3/goods-n/spectra/clear-prism/goods-n-mediumhst/hlsp_jades_jwst_nirspec_goods-n-mediumhst-00000604_clear-prism_v1.0_x1d.fits',\n",
    "            'mast:HLSP/jades/dr3/goods-n/spectra/clear-prism/goods-n-mediumhst/hlsp_jades_jwst_nirspec_goods-n-mediumhst-00000755_clear-prism_v1.0_x1d.fits',\n",
    "            'mast:HLSP/jades/dr3/goods-n/spectra/clear-prism/goods-n-mediumhst/hlsp_jades_jwst_nirspec_goods-n-mediumhst-00000755_clear-prism_v1.0_s2d.fits',\n",
    "            'mast:HLSP/jades/dr3/goods-n/spectra/clear-prism/goods-n-mediumhst/hlsp_jades_jwst_nirspec_goods-n-mediumhst-00000604_clear-prism_v1.0_s2d.fits',\n",
    "            'mast:HLSP/jades/dr3/goods-n/spectra/clear-prism/goods-n-mediumhst/hlsp_jades_jwst_nirspec_goods-n-mediumhst-00000804_clear-prism_v1.0_s2d.fits'\n",
    "           ]"
   ]
  },
  {
   "cell_type": "code",
   "execution_count": null,
   "id": "1f948a67-b989-4b35-8c31-1a881a4642cf",
   "metadata": {},
   "outputs": [],
   "source": [
    "for file in list_uri:\n",
    "    result = Observations.download_file(file, cache=True)\n",
    "    print(result)\n",
    "\n",
    "print('All files downloaded!')"
   ]
  },
  {
   "cell_type": "markdown",
   "id": "b44f40fc-7568-4f3b-bd95-68290ece5bd0",
   "metadata": {},
   "source": [
    "For the ASDF and gwcs work, run the download script."
   ]
  },
  {
   "cell_type": "code",
   "execution_count": null,
   "id": "6850cd9e-0a3c-4b37-b3db-c62557c44a03",
   "metadata": {},
   "outputs": [],
   "source": [
    "%run asdf/data/download.py"
   ]
  }
 ],
 "metadata": {
  "kernelspec": {
   "display_name": "Python 3 (ipykernel)",
   "language": "python",
   "name": "python3"
  },
  "language_info": {
   "codemirror_mode": {
    "name": "ipython",
    "version": 3
   },
   "file_extension": ".py",
   "mimetype": "text/x-python",
   "name": "python",
   "nbconvert_exporter": "python",
   "pygments_lexer": "ipython3",
   "version": "3.13.1"
  }
 },
 "nbformat": 4,
 "nbformat_minor": 5
}
