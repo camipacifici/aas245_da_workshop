{
 "cells": [
  {
   "cell_type": "markdown",
   "id": "8f646345-6b86-45d9-b06d-f7949854229b",
   "metadata": {},
   "source": [
    "# Set up for Data Analysis workshop"
   ]
  },
  {
   "cell_type": "markdown",
   "id": "4ca5e9da-b271-4623-96c2-873cc02607ec",
   "metadata": {},
   "source": [
    "## Installation\n",
    "```\n",
    "conda create -n da-workshop python=3.12 -y\n",
    "conda activate da-workshop\n",
    "pip install jdaviz\n",
    "```"
   ]
  },
  {
   "cell_type": "markdown",
   "id": "8c36e589-97d4-49a6-b4c4-037c401877bc",
   "metadata": {},
   "source": [
    "### Test installation"
   ]
  },
  {
   "cell_type": "code",
   "execution_count": null,
   "id": "61fe5c29-4bcc-46b4-8fa1-0dd355fd5350",
   "metadata": {},
   "outputs": [],
   "source": [
    "import jdaviz\n",
    "print(jdaviz.__version__)"
   ]
  },
  {
   "cell_type": "markdown",
   "id": "3144422b-3839-4dd5-9ad0-03f869e9d1d9",
   "metadata": {},
   "source": [
    "It should be version 4.0.1"
   ]
  },
  {
   "cell_type": "markdown",
   "id": "a3180a13-d056-4fe1-bd17-eb043fd3c2fb",
   "metadata": {},
   "source": [
    "## Get the material\n",
    "```\n",
    "git clone https://github.com/spacetelescope/aas245_da_workshop.git\n",
    "```\n",
    "Or go to https://github.com/spacetelescope/aas245_da_workshop and download the notebooks in the folder `notebooks`."
   ]
  },
  {
   "cell_type": "markdown",
   "id": "f8ddc2d0-e981-4cf6-b421-f4bcfd7ed760",
   "metadata": {},
   "source": [
    "## Get the data"
   ]
  },
  {
   "cell_type": "code",
   "execution_count": null,
   "id": "fc17fffa-734c-4f4d-8f5a-f6ef052a5d01",
   "metadata": {},
   "outputs": [],
   "source": [
    "from astroquery.mast import Observations"
   ]
  },
  {
   "cell_type": "code",
   "execution_count": null,
   "id": "f646992f-af4c-40cc-bda7-83dc0687f6e5",
   "metadata": {},
   "outputs": [],
   "source": [
    "uriimage1 = 'mast:JWST/product/jw01227-c1002_t005_nircam_clear-f335m_i2d.fits'\n",
    "uriimage2 = 'mast:JWST/product/jw01227-c1002_t005_nircam_clear-f277w_i2d.fits'\n",
    "uriimage3 = 'mast:JWST/product/jw01227-c1002_t005_nircam_clear-f444w_i2d.fits'\n",
    "uricube = 'mast:JWST/product/jw01328-o018_t010_nirspec_g235h-f170lp_s3d.fits'\n",
    "urispec2d = 'mast:HLSP/jades/dr3/goods-n/spectra/clear-prism/goods-n-mediumhst/hlsp_jades_jwst_nirspec_goods-n-mediumhst-00000804_clear-prism_v1.0_s2d.fits'"
   ]
  },
  {
   "cell_type": "code",
   "execution_count": null,
   "id": "1f948a67-b989-4b35-8c31-1a881a4642cf",
   "metadata": {},
   "outputs": [],
   "source": [
    "image1 = Observations.download_file(uriimage1, cache=True)"
   ]
  },
  {
   "cell_type": "code",
   "execution_count": null,
   "id": "93e74d94-8653-43d8-bb3a-fcc40efd5c03",
   "metadata": {},
   "outputs": [],
   "source": [
    "image2 = Observations.download_file(uriimage2, cache=True)"
   ]
  },
  {
   "cell_type": "code",
   "execution_count": null,
   "id": "437f145a-86ff-4bf4-8a3b-73ee28e02e53",
   "metadata": {},
   "outputs": [],
   "source": [
    "image3 = Observations.download_file(uriimage3, cache=True)"
   ]
  },
  {
   "cell_type": "code",
   "execution_count": null,
   "id": "c9fb9323-d611-4fcf-808d-0e75bea22fb5",
   "metadata": {},
   "outputs": [],
   "source": [
    "cube = Observations.download_file(uricube, cache=True)"
   ]
  },
  {
   "cell_type": "code",
   "execution_count": null,
   "id": "c04bbaa8-b4d3-4513-a1e6-8b40385eb071",
   "metadata": {},
   "outputs": [],
   "source": [
    "spec2d = Observations.download_file(urispec2d, cache=True)"
   ]
  },
  {
   "cell_type": "code",
   "execution_count": null,
   "id": "0886ce4d-eb67-4ce1-8c29-6c0b2f5d41b2",
   "metadata": {},
   "outputs": [],
   "source": []
  }
 ],
 "metadata": {
  "kernelspec": {
   "display_name": "Python 3 (ipykernel)",
   "language": "python",
   "name": "python3"
  },
  "language_info": {
   "codemirror_mode": {
    "name": "ipython",
    "version": 3
   },
   "file_extension": ".py",
   "mimetype": "text/x-python",
   "name": "python",
   "nbconvert_exporter": "python",
   "pygments_lexer": "ipython3",
   "version": "3.12.8"
  }
 },
 "nbformat": 4,
 "nbformat_minor": 5
}
